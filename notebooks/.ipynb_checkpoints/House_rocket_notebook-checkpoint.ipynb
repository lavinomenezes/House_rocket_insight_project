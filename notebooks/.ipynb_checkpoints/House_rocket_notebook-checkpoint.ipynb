{
 "cells": [
  {
   "cell_type": "markdown",
   "metadata": {},
   "source": [
    "![purple-divider](https://user-images.githubusercontent.com/7065401/52071927-c1cd7100-2562-11e9-908a-dde91ba14e59.png)\n",
    "## Imports"
   ]
  },
  {
   "cell_type": "code",
   "execution_count": 4,
   "metadata": {
    "ExecuteTime": {
     "end_time": "2022-03-11T14:16:40.948126Z",
     "start_time": "2022-03-11T14:16:40.940146Z"
    }
   },
   "outputs": [],
   "source": [
    "import pandas as pd\n",
    "import seaborn as sns\n",
    "import matplotlib.pyplot as plt\n",
    "from IPython.core.display import HTML\n",
    "import locale\n"
   ]
  },
  {
   "cell_type": "code",
   "execution_count": 5,
   "metadata": {
    "ExecuteTime": {
     "end_time": "2022-03-11T14:16:40.994002Z",
     "start_time": "2022-03-11T14:16:40.951116Z"
    }
   },
   "outputs": [
    {
     "name": "stdout",
     "output_type": "stream",
     "text": [
      "Populating the interactive namespace from numpy and matplotlib\n"
     ]
    },
    {
     "data": {
      "text/html": [
       "<style>.container {width:100% !important; }</style>"
      ],
      "text/plain": [
       "<IPython.core.display.HTML object>"
      ]
     },
     "metadata": {},
     "output_type": "display_data"
    }
   ],
   "source": [
    "def jupyter_settings ( ) :\n",
    "    %matplotlib inline\n",
    "    %pylab inline\n",
    "    plt.style.use( 'bmh' )\n",
    "    plt.rcParams ['figure.figsize'] = [25, 12]\n",
    "    plt.rcParams ['font.size'] = 24\n",
    "    display(HTML('<style>.container {width:100% !important; }</style>'))\n",
    "    pd.options.display.max_columns = None\n",
    "    pd.options.display.max_rows= None\n",
    "    pd.set_option( 'display.expand_frame_repr', False )\n",
    "    sns.set()\n",
    "    pd.set_option('display.float_format', '{:.2f}'.format)\n",
    "\n",
    "                 \n",
    "jupyter_settings ();"
   ]
  },
  {
   "cell_type": "markdown",
   "metadata": {},
   "source": [
    "# help functions"
   ]
  },
  {
   "cell_type": "code",
   "execution_count": 6,
   "metadata": {
    "ExecuteTime": {
     "end_time": "2022-03-11T14:16:41.009959Z",
     "start_time": "2022-03-11T14:16:40.996995Z"
    },
    "code_folding": []
   },
   "outputs": [],
   "source": [
    "def dif(val1, val2):\n",
    "    perc = round(100*((val2 - val1))/val1,2)\n",
    "    return perc\n"
   ]
  },
  {
   "cell_type": "code",
   "execution_count": 7,
   "metadata": {
    "ExecuteTime": {
     "end_time": "2022-03-11T14:16:41.025916Z",
     "start_time": "2022-03-11T14:16:41.012952Z"
    }
   },
   "outputs": [],
   "source": [
    "def MoM(dataset):\n",
    "    dataset['MoM_%'] = 0\n",
    "    for i in range(1,len(dataset)):\n",
    "        dataset.loc[i,'MoM_%'] = dif(dataset.iloc[i-1,1],dataset.iloc[i,1])\n",
    "    return dataset"
   ]
  },
  {
   "cell_type": "code",
   "execution_count": 8,
   "metadata": {
    "ExecuteTime": {
     "end_time": "2022-03-11T14:16:41.041875Z",
     "start_time": "2022-03-11T14:16:41.028908Z"
    }
   },
   "outputs": [],
   "source": [
    "locale.setlocale(locale.LC_ALL, 'English_United States.1252');\n",
    "f = lambda x: locale.currency(x, grouping=True)"
   ]
  },
  {
   "cell_type": "markdown",
   "metadata": {},
   "source": [
    "![purple-divider](https://user-images.githubusercontent.com/7065401/52071927-c1cd7100-2562-11e9-908a-dde91ba14e59.png)\n",
    "## Read the file"
   ]
  },
  {
   "cell_type": "code",
   "execution_count": 9,
   "metadata": {
    "ExecuteTime": {
     "end_time": "2022-03-11T14:16:41.137618Z",
     "start_time": "2022-03-11T14:16:41.044866Z"
    }
   },
   "outputs": [],
   "source": [
    "df = pd.read_csv('../data/kc_house_data.csv')"
   ]
  },
  {
   "cell_type": "code",
   "execution_count": 10,
   "metadata": {
    "ExecuteTime": {
     "end_time": "2022-03-11T14:16:41.169533Z",
     "start_time": "2022-03-11T14:16:41.141608Z"
    }
   },
   "outputs": [
    {
     "data": {
      "text/html": [
       "<div>\n",
       "<style scoped>\n",
       "    .dataframe tbody tr th:only-of-type {\n",
       "        vertical-align: middle;\n",
       "    }\n",
       "\n",
       "    .dataframe tbody tr th {\n",
       "        vertical-align: top;\n",
       "    }\n",
       "\n",
       "    .dataframe thead th {\n",
       "        text-align: right;\n",
       "    }\n",
       "</style>\n",
       "<table border=\"1\" class=\"dataframe\">\n",
       "  <thead>\n",
       "    <tr style=\"text-align: right;\">\n",
       "      <th></th>\n",
       "      <th>id</th>\n",
       "      <th>date</th>\n",
       "      <th>price</th>\n",
       "      <th>bedrooms</th>\n",
       "      <th>bathrooms</th>\n",
       "      <th>sqft_living</th>\n",
       "      <th>sqft_lot</th>\n",
       "      <th>floors</th>\n",
       "      <th>waterfront</th>\n",
       "      <th>view</th>\n",
       "      <th>condition</th>\n",
       "      <th>grade</th>\n",
       "      <th>sqft_above</th>\n",
       "      <th>sqft_basement</th>\n",
       "      <th>yr_built</th>\n",
       "      <th>yr_renovated</th>\n",
       "      <th>zipcode</th>\n",
       "      <th>lat</th>\n",
       "      <th>long</th>\n",
       "      <th>sqft_living15</th>\n",
       "      <th>sqft_lot15</th>\n",
       "    </tr>\n",
       "  </thead>\n",
       "  <tbody>\n",
       "    <tr>\n",
       "      <th>0</th>\n",
       "      <td>7129300520</td>\n",
       "      <td>20141013T000000</td>\n",
       "      <td>221900.00</td>\n",
       "      <td>3</td>\n",
       "      <td>1.00</td>\n",
       "      <td>1180</td>\n",
       "      <td>5650</td>\n",
       "      <td>1.00</td>\n",
       "      <td>0</td>\n",
       "      <td>0</td>\n",
       "      <td>3</td>\n",
       "      <td>7</td>\n",
       "      <td>1180</td>\n",
       "      <td>0</td>\n",
       "      <td>1955</td>\n",
       "      <td>0</td>\n",
       "      <td>98178</td>\n",
       "      <td>47.51</td>\n",
       "      <td>-122.26</td>\n",
       "      <td>1340</td>\n",
       "      <td>5650</td>\n",
       "    </tr>\n",
       "    <tr>\n",
       "      <th>1</th>\n",
       "      <td>6414100192</td>\n",
       "      <td>20141209T000000</td>\n",
       "      <td>538000.00</td>\n",
       "      <td>3</td>\n",
       "      <td>2.25</td>\n",
       "      <td>2570</td>\n",
       "      <td>7242</td>\n",
       "      <td>2.00</td>\n",
       "      <td>0</td>\n",
       "      <td>0</td>\n",
       "      <td>3</td>\n",
       "      <td>7</td>\n",
       "      <td>2170</td>\n",
       "      <td>400</td>\n",
       "      <td>1951</td>\n",
       "      <td>1991</td>\n",
       "      <td>98125</td>\n",
       "      <td>47.72</td>\n",
       "      <td>-122.32</td>\n",
       "      <td>1690</td>\n",
       "      <td>7639</td>\n",
       "    </tr>\n",
       "    <tr>\n",
       "      <th>2</th>\n",
       "      <td>5631500400</td>\n",
       "      <td>20150225T000000</td>\n",
       "      <td>180000.00</td>\n",
       "      <td>2</td>\n",
       "      <td>1.00</td>\n",
       "      <td>770</td>\n",
       "      <td>10000</td>\n",
       "      <td>1.00</td>\n",
       "      <td>0</td>\n",
       "      <td>0</td>\n",
       "      <td>3</td>\n",
       "      <td>6</td>\n",
       "      <td>770</td>\n",
       "      <td>0</td>\n",
       "      <td>1933</td>\n",
       "      <td>0</td>\n",
       "      <td>98028</td>\n",
       "      <td>47.74</td>\n",
       "      <td>-122.23</td>\n",
       "      <td>2720</td>\n",
       "      <td>8062</td>\n",
       "    </tr>\n",
       "    <tr>\n",
       "      <th>3</th>\n",
       "      <td>2487200875</td>\n",
       "      <td>20141209T000000</td>\n",
       "      <td>604000.00</td>\n",
       "      <td>4</td>\n",
       "      <td>3.00</td>\n",
       "      <td>1960</td>\n",
       "      <td>5000</td>\n",
       "      <td>1.00</td>\n",
       "      <td>0</td>\n",
       "      <td>0</td>\n",
       "      <td>5</td>\n",
       "      <td>7</td>\n",
       "      <td>1050</td>\n",
       "      <td>910</td>\n",
       "      <td>1965</td>\n",
       "      <td>0</td>\n",
       "      <td>98136</td>\n",
       "      <td>47.52</td>\n",
       "      <td>-122.39</td>\n",
       "      <td>1360</td>\n",
       "      <td>5000</td>\n",
       "    </tr>\n",
       "    <tr>\n",
       "      <th>4</th>\n",
       "      <td>1954400510</td>\n",
       "      <td>20150218T000000</td>\n",
       "      <td>510000.00</td>\n",
       "      <td>3</td>\n",
       "      <td>2.00</td>\n",
       "      <td>1680</td>\n",
       "      <td>8080</td>\n",
       "      <td>1.00</td>\n",
       "      <td>0</td>\n",
       "      <td>0</td>\n",
       "      <td>3</td>\n",
       "      <td>8</td>\n",
       "      <td>1680</td>\n",
       "      <td>0</td>\n",
       "      <td>1987</td>\n",
       "      <td>0</td>\n",
       "      <td>98074</td>\n",
       "      <td>47.62</td>\n",
       "      <td>-122.05</td>\n",
       "      <td>1800</td>\n",
       "      <td>7503</td>\n",
       "    </tr>\n",
       "  </tbody>\n",
       "</table>\n",
       "</div>"
      ],
      "text/plain": [
       "           id             date     price  bedrooms  bathrooms  sqft_living  sqft_lot  floors  waterfront  view  condition  grade  sqft_above  sqft_basement  yr_built  yr_renovated  zipcode   lat    long  sqft_living15  sqft_lot15\n",
       "0  7129300520  20141013T000000 221900.00         3       1.00         1180      5650    1.00           0     0          3      7        1180              0      1955             0    98178 47.51 -122.26           1340        5650\n",
       "1  6414100192  20141209T000000 538000.00         3       2.25         2570      7242    2.00           0     0          3      7        2170            400      1951          1991    98125 47.72 -122.32           1690        7639\n",
       "2  5631500400  20150225T000000 180000.00         2       1.00          770     10000    1.00           0     0          3      6         770              0      1933             0    98028 47.74 -122.23           2720        8062\n",
       "3  2487200875  20141209T000000 604000.00         4       3.00         1960      5000    1.00           0     0          5      7        1050            910      1965             0    98136 47.52 -122.39           1360        5000\n",
       "4  1954400510  20150218T000000 510000.00         3       2.00         1680      8080    1.00           0     0          3      8        1680              0      1987             0    98074 47.62 -122.05           1800        7503"
      ]
     },
     "execution_count": 10,
     "metadata": {},
     "output_type": "execute_result"
    }
   ],
   "source": [
    "df.head()"
   ]
  },
  {
   "cell_type": "code",
   "execution_count": 11,
   "metadata": {
    "ExecuteTime": {
     "end_time": "2022-03-11T14:16:41.185489Z",
     "start_time": "2022-03-11T14:16:41.172525Z"
    }
   },
   "outputs": [
    {
     "data": {
      "text/plain": [
       "(21613, 21)"
      ]
     },
     "execution_count": 11,
     "metadata": {},
     "output_type": "execute_result"
    }
   ],
   "source": [
    "df.shape"
   ]
  },
  {
   "cell_type": "code",
   "execution_count": 12,
   "metadata": {
    "ExecuteTime": {
     "end_time": "2022-03-11T14:16:41.201447Z",
     "start_time": "2022-03-11T14:16:41.187485Z"
    },
    "scrolled": false
   },
   "outputs": [
    {
     "data": {
      "text/plain": [
       "Index(['id', 'date', 'price', 'bedrooms', 'bathrooms', 'sqft_living',\n",
       "       'sqft_lot', 'floors', 'waterfront', 'view', 'condition', 'grade',\n",
       "       'sqft_above', 'sqft_basement', 'yr_built', 'yr_renovated', 'zipcode',\n",
       "       'lat', 'long', 'sqft_living15', 'sqft_lot15'],\n",
       "      dtype='object')"
      ]
     },
     "execution_count": 12,
     "metadata": {},
     "output_type": "execute_result"
    }
   ],
   "source": [
    "df.columns"
   ]
  },
  {
   "cell_type": "markdown",
   "metadata": {},
   "source": [
    "![purple-divider](https://user-images.githubusercontent.com/7065401/52071927-c1cd7100-2562-11e9-908a-dde91ba14e59.png)\n",
    "## Check for missing values"
   ]
  },
  {
   "cell_type": "code",
   "execution_count": 13,
   "metadata": {
    "ExecuteTime": {
     "end_time": "2022-03-11T14:16:41.233362Z",
     "start_time": "2022-03-11T14:16:41.203443Z"
    },
    "scrolled": true
   },
   "outputs": [
    {
     "data": {
      "text/plain": [
       "id               0\n",
       "date             0\n",
       "price            0\n",
       "bedrooms         0\n",
       "bathrooms        0\n",
       "sqft_living      0\n",
       "sqft_lot         0\n",
       "floors           0\n",
       "waterfront       0\n",
       "view             0\n",
       "condition        0\n",
       "grade            0\n",
       "sqft_above       0\n",
       "sqft_basement    0\n",
       "yr_built         0\n",
       "yr_renovated     0\n",
       "zipcode          0\n",
       "lat              0\n",
       "long             0\n",
       "sqft_living15    0\n",
       "sqft_lot15       0\n",
       "dtype: int64"
      ]
     },
     "execution_count": 13,
     "metadata": {},
     "output_type": "execute_result"
    }
   ],
   "source": [
    "df.isnull().sum()"
   ]
  },
  {
   "cell_type": "markdown",
   "metadata": {},
   "source": [
    "No missing values"
   ]
  },
  {
   "cell_type": "markdown",
   "metadata": {},
   "source": [
    "![purple-divider](https://user-images.githubusercontent.com/7065401/52071927-c1cd7100-2562-11e9-908a-dde91ba14e59.png)\n",
    "## Check for duplicates"
   ]
  },
  {
   "cell_type": "code",
   "execution_count": 14,
   "metadata": {
    "ExecuteTime": {
     "end_time": "2022-03-11T14:16:41.265276Z",
     "start_time": "2022-03-11T14:16:41.235360Z"
    }
   },
   "outputs": [
    {
     "data": {
      "text/plain": [
       "177"
      ]
     },
     "execution_count": 14,
     "metadata": {},
     "output_type": "execute_result"
    }
   ],
   "source": [
    "df.duplicated(subset='id').sum()"
   ]
  },
  {
   "cell_type": "markdown",
   "metadata": {},
   "source": [
    "The dataset has some duplicate ids, but the other columns are different, so if we check for duplicates with \"pd.duplicated()\", they will only be shown if we add the parameter \"subset\" with the \"id\" column as a reference"
   ]
  },
  {
   "cell_type": "code",
   "execution_count": 15,
   "metadata": {
    "ExecuteTime": {
     "end_time": "2022-03-11T14:16:41.281233Z",
     "start_time": "2022-03-11T14:16:41.267271Z"
    }
   },
   "outputs": [],
   "source": [
    "df.drop_duplicates(subset='id',inplace=True)"
   ]
  },
  {
   "cell_type": "code",
   "execution_count": 16,
   "metadata": {
    "ExecuteTime": {
     "end_time": "2022-03-11T14:16:41.297191Z",
     "start_time": "2022-03-11T14:16:41.283229Z"
    }
   },
   "outputs": [
    {
     "data": {
      "text/plain": [
       "0"
      ]
     },
     "execution_count": 16,
     "metadata": {},
     "output_type": "execute_result"
    }
   ],
   "source": [
    "df.duplicated(subset='id').sum()"
   ]
  },
  {
   "cell_type": "markdown",
   "metadata": {},
   "source": [
    "![purple-divider](https://user-images.githubusercontent.com/7065401/52071927-c1cd7100-2562-11e9-908a-dde91ba14e59.png)\n",
    "## Check columns types"
   ]
  },
  {
   "cell_type": "code",
   "execution_count": 17,
   "metadata": {
    "ExecuteTime": {
     "end_time": "2022-03-11T14:16:41.313150Z",
     "start_time": "2022-03-11T14:16:41.299185Z"
    }
   },
   "outputs": [
    {
     "data": {
      "text/plain": [
       "id                 int64\n",
       "date              object\n",
       "price            float64\n",
       "bedrooms           int64\n",
       "bathrooms        float64\n",
       "sqft_living        int64\n",
       "sqft_lot           int64\n",
       "floors           float64\n",
       "waterfront         int64\n",
       "view               int64\n",
       "condition          int64\n",
       "grade              int64\n",
       "sqft_above         int64\n",
       "sqft_basement      int64\n",
       "yr_built           int64\n",
       "yr_renovated       int64\n",
       "zipcode            int64\n",
       "lat              float64\n",
       "long             float64\n",
       "sqft_living15      int64\n",
       "sqft_lot15         int64\n",
       "dtype: object"
      ]
     },
     "execution_count": 17,
     "metadata": {},
     "output_type": "execute_result"
    }
   ],
   "source": [
    "df.dtypes"
   ]
  },
  {
   "cell_type": "markdown",
   "metadata": {},
   "source": [
    "![purple-divider](https://user-images.githubusercontent.com/7065401/52071927-c1cd7100-2562-11e9-908a-dde91ba14e59.png)\n",
    "# Transform columns types"
   ]
  },
  {
   "cell_type": "markdown",
   "metadata": {},
   "source": [
    "we have 3 columns that need be transform to datetime type: date, yr_build, yr_renovated"
   ]
  },
  {
   "cell_type": "code",
   "execution_count": 18,
   "metadata": {
    "ExecuteTime": {
     "end_time": "2022-03-11T14:16:41.345064Z",
     "start_time": "2022-03-11T14:16:41.315143Z"
    }
   },
   "outputs": [],
   "source": [
    "df['date'] = pd.to_datetime(df['date'])"
   ]
  },
  {
   "cell_type": "markdown",
   "metadata": {},
   "source": [
    "The columns \"yr_built\" and \"yr_renovated\" both are \"int64\" type and needed to be transformed to \"datetime\", but they only contain the year if we apply \"pd.to_datetime\" on then will return the default value of \"1970-01-01\", so we will add the month and day in all the rows that the year is non-zero. The final shape will be: \"xxxx-01-01\""
   ]
  },
  {
   "cell_type": "code",
   "execution_count": 19,
   "metadata": {
    "ExecuteTime": {
     "end_time": "2022-03-11T14:16:41.408892Z",
     "start_time": "2022-03-11T14:16:41.348056Z"
    }
   },
   "outputs": [],
   "source": [
    "df['yr_built'] = df['yr_built'].astype(str)\n",
    "df['yr_built'] = df['yr_built'].apply(lambda x: x + \"-01-01\")\n",
    "df['yr_built'] = pd.to_datetime(df['yr_built'])"
   ]
  },
  {
   "cell_type": "code",
   "execution_count": 20,
   "metadata": {
    "ExecuteTime": {
     "end_time": "2022-03-11T14:16:43.706044Z",
     "start_time": "2022-03-11T14:16:41.410889Z"
    }
   },
   "outputs": [],
   "source": [
    "df['yr_renovated'] = df['yr_renovated'].astype(str)\n",
    "df['yr_renovated'] = df['yr_renovated'].apply(lambda x: '0' if x=='0' else x + \"-01-01\")\n",
    "df['yr_renovated'] = df['yr_renovated'].apply(lambda x: pd.to_datetime('1970-01-01',format=\"%Y-%m-%d\")if x=='0' else pd.to_datetime(x))\n",
    "df['yr_renovated'] = pd.to_datetime(df['yr_renovated'])"
   ]
  },
  {
   "cell_type": "markdown",
   "metadata": {},
   "source": [
    "![purple-divider](https://user-images.githubusercontent.com/7065401/52071927-c1cd7100-2562-11e9-908a-dde91ba14e59.png)\n",
    "# Statistical analysis of the data"
   ]
  },
  {
   "cell_type": "markdown",
   "metadata": {},
   "source": [
    "### Get numeric data"
   ]
  },
  {
   "cell_type": "code",
   "execution_count": 21,
   "metadata": {
    "ExecuteTime": {
     "end_time": "2022-03-11T14:16:43.720985Z",
     "start_time": "2022-03-11T14:16:43.708020Z"
    }
   },
   "outputs": [],
   "source": [
    "df_num = df.select_dtypes(include=['int64','float64'])"
   ]
  },
  {
   "cell_type": "code",
   "execution_count": 22,
   "metadata": {
    "ExecuteTime": {
     "end_time": "2022-03-11T14:16:43.752877Z",
     "start_time": "2022-03-11T14:16:43.727967Z"
    }
   },
   "outputs": [
    {
     "data": {
      "text/html": [
       "<div>\n",
       "<style scoped>\n",
       "    .dataframe tbody tr th:only-of-type {\n",
       "        vertical-align: middle;\n",
       "    }\n",
       "\n",
       "    .dataframe tbody tr th {\n",
       "        vertical-align: top;\n",
       "    }\n",
       "\n",
       "    .dataframe thead th {\n",
       "        text-align: right;\n",
       "    }\n",
       "</style>\n",
       "<table border=\"1\" class=\"dataframe\">\n",
       "  <thead>\n",
       "    <tr style=\"text-align: right;\">\n",
       "      <th></th>\n",
       "      <th>id</th>\n",
       "      <th>price</th>\n",
       "      <th>bedrooms</th>\n",
       "      <th>bathrooms</th>\n",
       "      <th>sqft_living</th>\n",
       "      <th>sqft_lot</th>\n",
       "      <th>floors</th>\n",
       "      <th>waterfront</th>\n",
       "      <th>view</th>\n",
       "      <th>condition</th>\n",
       "      <th>grade</th>\n",
       "      <th>sqft_above</th>\n",
       "      <th>sqft_basement</th>\n",
       "      <th>zipcode</th>\n",
       "      <th>lat</th>\n",
       "      <th>long</th>\n",
       "      <th>sqft_living15</th>\n",
       "      <th>sqft_lot15</th>\n",
       "    </tr>\n",
       "  </thead>\n",
       "  <tbody>\n",
       "    <tr>\n",
       "      <th>0</th>\n",
       "      <td>7129300520</td>\n",
       "      <td>221900.00</td>\n",
       "      <td>3</td>\n",
       "      <td>1.00</td>\n",
       "      <td>1180</td>\n",
       "      <td>5650</td>\n",
       "      <td>1.00</td>\n",
       "      <td>0</td>\n",
       "      <td>0</td>\n",
       "      <td>3</td>\n",
       "      <td>7</td>\n",
       "      <td>1180</td>\n",
       "      <td>0</td>\n",
       "      <td>98178</td>\n",
       "      <td>47.51</td>\n",
       "      <td>-122.26</td>\n",
       "      <td>1340</td>\n",
       "      <td>5650</td>\n",
       "    </tr>\n",
       "    <tr>\n",
       "      <th>1</th>\n",
       "      <td>6414100192</td>\n",
       "      <td>538000.00</td>\n",
       "      <td>3</td>\n",
       "      <td>2.25</td>\n",
       "      <td>2570</td>\n",
       "      <td>7242</td>\n",
       "      <td>2.00</td>\n",
       "      <td>0</td>\n",
       "      <td>0</td>\n",
       "      <td>3</td>\n",
       "      <td>7</td>\n",
       "      <td>2170</td>\n",
       "      <td>400</td>\n",
       "      <td>98125</td>\n",
       "      <td>47.72</td>\n",
       "      <td>-122.32</td>\n",
       "      <td>1690</td>\n",
       "      <td>7639</td>\n",
       "    </tr>\n",
       "    <tr>\n",
       "      <th>2</th>\n",
       "      <td>5631500400</td>\n",
       "      <td>180000.00</td>\n",
       "      <td>2</td>\n",
       "      <td>1.00</td>\n",
       "      <td>770</td>\n",
       "      <td>10000</td>\n",
       "      <td>1.00</td>\n",
       "      <td>0</td>\n",
       "      <td>0</td>\n",
       "      <td>3</td>\n",
       "      <td>6</td>\n",
       "      <td>770</td>\n",
       "      <td>0</td>\n",
       "      <td>98028</td>\n",
       "      <td>47.74</td>\n",
       "      <td>-122.23</td>\n",
       "      <td>2720</td>\n",
       "      <td>8062</td>\n",
       "    </tr>\n",
       "    <tr>\n",
       "      <th>3</th>\n",
       "      <td>2487200875</td>\n",
       "      <td>604000.00</td>\n",
       "      <td>4</td>\n",
       "      <td>3.00</td>\n",
       "      <td>1960</td>\n",
       "      <td>5000</td>\n",
       "      <td>1.00</td>\n",
       "      <td>0</td>\n",
       "      <td>0</td>\n",
       "      <td>5</td>\n",
       "      <td>7</td>\n",
       "      <td>1050</td>\n",
       "      <td>910</td>\n",
       "      <td>98136</td>\n",
       "      <td>47.52</td>\n",
       "      <td>-122.39</td>\n",
       "      <td>1360</td>\n",
       "      <td>5000</td>\n",
       "    </tr>\n",
       "    <tr>\n",
       "      <th>4</th>\n",
       "      <td>1954400510</td>\n",
       "      <td>510000.00</td>\n",
       "      <td>3</td>\n",
       "      <td>2.00</td>\n",
       "      <td>1680</td>\n",
       "      <td>8080</td>\n",
       "      <td>1.00</td>\n",
       "      <td>0</td>\n",
       "      <td>0</td>\n",
       "      <td>3</td>\n",
       "      <td>8</td>\n",
       "      <td>1680</td>\n",
       "      <td>0</td>\n",
       "      <td>98074</td>\n",
       "      <td>47.62</td>\n",
       "      <td>-122.05</td>\n",
       "      <td>1800</td>\n",
       "      <td>7503</td>\n",
       "    </tr>\n",
       "  </tbody>\n",
       "</table>\n",
       "</div>"
      ],
      "text/plain": [
       "           id     price  bedrooms  bathrooms  sqft_living  sqft_lot  floors  waterfront  view  condition  grade  sqft_above  sqft_basement  zipcode   lat    long  sqft_living15  sqft_lot15\n",
       "0  7129300520 221900.00         3       1.00         1180      5650    1.00           0     0          3      7        1180              0    98178 47.51 -122.26           1340        5650\n",
       "1  6414100192 538000.00         3       2.25         2570      7242    2.00           0     0          3      7        2170            400    98125 47.72 -122.32           1690        7639\n",
       "2  5631500400 180000.00         2       1.00          770     10000    1.00           0     0          3      6         770              0    98028 47.74 -122.23           2720        8062\n",
       "3  2487200875 604000.00         4       3.00         1960      5000    1.00           0     0          5      7        1050            910    98136 47.52 -122.39           1360        5000\n",
       "4  1954400510 510000.00         3       2.00         1680      8080    1.00           0     0          3      8        1680              0    98074 47.62 -122.05           1800        7503"
      ]
     },
     "execution_count": 22,
     "metadata": {},
     "output_type": "execute_result"
    }
   ],
   "source": [
    "df_num.head()"
   ]
  },
  {
   "cell_type": "code",
   "execution_count": 23,
   "metadata": {
    "ExecuteTime": {
     "end_time": "2022-03-11T14:16:43.845893Z",
     "start_time": "2022-03-11T14:16:43.757870Z"
    }
   },
   "outputs": [
    {
     "data": {
      "text/html": [
       "<div>\n",
       "<style scoped>\n",
       "    .dataframe tbody tr th:only-of-type {\n",
       "        vertical-align: middle;\n",
       "    }\n",
       "\n",
       "    .dataframe tbody tr th {\n",
       "        vertical-align: top;\n",
       "    }\n",
       "\n",
       "    .dataframe thead th {\n",
       "        text-align: right;\n",
       "    }\n",
       "</style>\n",
       "<table border=\"1\" class=\"dataframe\">\n",
       "  <thead>\n",
       "    <tr style=\"text-align: right;\">\n",
       "      <th></th>\n",
       "      <th>atributes</th>\n",
       "      <th>count</th>\n",
       "      <th>mean</th>\n",
       "      <th>std</th>\n",
       "      <th>min</th>\n",
       "      <th>25%</th>\n",
       "      <th>median</th>\n",
       "      <th>75%</th>\n",
       "      <th>max</th>\n",
       "    </tr>\n",
       "  </thead>\n",
       "  <tbody>\n",
       "    <tr>\n",
       "      <th>0</th>\n",
       "      <td>id</td>\n",
       "      <td>21436.00</td>\n",
       "      <td>4580765328.18</td>\n",
       "      <td>2876589633.67</td>\n",
       "      <td>1000102.00</td>\n",
       "      <td>2123700078.75</td>\n",
       "      <td>3904921185.00</td>\n",
       "      <td>7308675062.50</td>\n",
       "      <td>9900000190.00</td>\n",
       "    </tr>\n",
       "    <tr>\n",
       "      <th>1</th>\n",
       "      <td>price</td>\n",
       "      <td>21436.00</td>\n",
       "      <td>540529.29</td>\n",
       "      <td>367689.30</td>\n",
       "      <td>75000.00</td>\n",
       "      <td>322150.00</td>\n",
       "      <td>450000.00</td>\n",
       "      <td>645000.00</td>\n",
       "      <td>7700000.00</td>\n",
       "    </tr>\n",
       "    <tr>\n",
       "      <th>2</th>\n",
       "      <td>bedrooms</td>\n",
       "      <td>21436.00</td>\n",
       "      <td>3.37</td>\n",
       "      <td>0.93</td>\n",
       "      <td>0.00</td>\n",
       "      <td>3.00</td>\n",
       "      <td>3.00</td>\n",
       "      <td>4.00</td>\n",
       "      <td>33.00</td>\n",
       "    </tr>\n",
       "    <tr>\n",
       "      <th>3</th>\n",
       "      <td>bathrooms</td>\n",
       "      <td>21436.00</td>\n",
       "      <td>2.12</td>\n",
       "      <td>0.77</td>\n",
       "      <td>0.00</td>\n",
       "      <td>1.75</td>\n",
       "      <td>2.25</td>\n",
       "      <td>2.50</td>\n",
       "      <td>8.00</td>\n",
       "    </tr>\n",
       "    <tr>\n",
       "      <th>4</th>\n",
       "      <td>sqft_living</td>\n",
       "      <td>21436.00</td>\n",
       "      <td>2082.70</td>\n",
       "      <td>919.15</td>\n",
       "      <td>290.00</td>\n",
       "      <td>1430.00</td>\n",
       "      <td>1920.00</td>\n",
       "      <td>2550.00</td>\n",
       "      <td>13540.00</td>\n",
       "    </tr>\n",
       "    <tr>\n",
       "      <th>5</th>\n",
       "      <td>sqft_lot</td>\n",
       "      <td>21436.00</td>\n",
       "      <td>15135.64</td>\n",
       "      <td>41538.62</td>\n",
       "      <td>520.00</td>\n",
       "      <td>5040.00</td>\n",
       "      <td>7614.00</td>\n",
       "      <td>10696.25</td>\n",
       "      <td>1651359.00</td>\n",
       "    </tr>\n",
       "    <tr>\n",
       "      <th>6</th>\n",
       "      <td>floors</td>\n",
       "      <td>21436.00</td>\n",
       "      <td>1.50</td>\n",
       "      <td>0.54</td>\n",
       "      <td>1.00</td>\n",
       "      <td>1.00</td>\n",
       "      <td>1.50</td>\n",
       "      <td>2.00</td>\n",
       "      <td>3.50</td>\n",
       "    </tr>\n",
       "    <tr>\n",
       "      <th>7</th>\n",
       "      <td>waterfront</td>\n",
       "      <td>21436.00</td>\n",
       "      <td>0.01</td>\n",
       "      <td>0.09</td>\n",
       "      <td>0.00</td>\n",
       "      <td>0.00</td>\n",
       "      <td>0.00</td>\n",
       "      <td>0.00</td>\n",
       "      <td>1.00</td>\n",
       "    </tr>\n",
       "    <tr>\n",
       "      <th>8</th>\n",
       "      <td>view</td>\n",
       "      <td>21436.00</td>\n",
       "      <td>0.24</td>\n",
       "      <td>0.77</td>\n",
       "      <td>0.00</td>\n",
       "      <td>0.00</td>\n",
       "      <td>0.00</td>\n",
       "      <td>0.00</td>\n",
       "      <td>4.00</td>\n",
       "    </tr>\n",
       "    <tr>\n",
       "      <th>9</th>\n",
       "      <td>condition</td>\n",
       "      <td>21436.00</td>\n",
       "      <td>3.41</td>\n",
       "      <td>0.65</td>\n",
       "      <td>1.00</td>\n",
       "      <td>3.00</td>\n",
       "      <td>3.00</td>\n",
       "      <td>4.00</td>\n",
       "      <td>5.00</td>\n",
       "    </tr>\n",
       "    <tr>\n",
       "      <th>10</th>\n",
       "      <td>grade</td>\n",
       "      <td>21436.00</td>\n",
       "      <td>7.66</td>\n",
       "      <td>1.17</td>\n",
       "      <td>1.00</td>\n",
       "      <td>7.00</td>\n",
       "      <td>7.00</td>\n",
       "      <td>8.00</td>\n",
       "      <td>13.00</td>\n",
       "    </tr>\n",
       "    <tr>\n",
       "      <th>11</th>\n",
       "      <td>sqft_above</td>\n",
       "      <td>21436.00</td>\n",
       "      <td>1790.96</td>\n",
       "      <td>829.03</td>\n",
       "      <td>290.00</td>\n",
       "      <td>1200.00</td>\n",
       "      <td>1560.00</td>\n",
       "      <td>2220.00</td>\n",
       "      <td>9410.00</td>\n",
       "    </tr>\n",
       "    <tr>\n",
       "      <th>12</th>\n",
       "      <td>sqft_basement</td>\n",
       "      <td>21436.00</td>\n",
       "      <td>291.74</td>\n",
       "      <td>442.78</td>\n",
       "      <td>0.00</td>\n",
       "      <td>0.00</td>\n",
       "      <td>0.00</td>\n",
       "      <td>560.00</td>\n",
       "      <td>4820.00</td>\n",
       "    </tr>\n",
       "    <tr>\n",
       "      <th>13</th>\n",
       "      <td>zipcode</td>\n",
       "      <td>21436.00</td>\n",
       "      <td>98077.86</td>\n",
       "      <td>53.47</td>\n",
       "      <td>98001.00</td>\n",
       "      <td>98033.00</td>\n",
       "      <td>98065.00</td>\n",
       "      <td>98117.00</td>\n",
       "      <td>98199.00</td>\n",
       "    </tr>\n",
       "    <tr>\n",
       "      <th>14</th>\n",
       "      <td>lat</td>\n",
       "      <td>21436.00</td>\n",
       "      <td>47.56</td>\n",
       "      <td>0.14</td>\n",
       "      <td>47.16</td>\n",
       "      <td>47.47</td>\n",
       "      <td>47.57</td>\n",
       "      <td>47.68</td>\n",
       "      <td>47.78</td>\n",
       "    </tr>\n",
       "    <tr>\n",
       "      <th>15</th>\n",
       "      <td>long</td>\n",
       "      <td>21436.00</td>\n",
       "      <td>-122.21</td>\n",
       "      <td>0.14</td>\n",
       "      <td>-122.52</td>\n",
       "      <td>-122.33</td>\n",
       "      <td>-122.23</td>\n",
       "      <td>-122.12</td>\n",
       "      <td>-121.31</td>\n",
       "    </tr>\n",
       "    <tr>\n",
       "      <th>16</th>\n",
       "      <td>sqft_living15</td>\n",
       "      <td>21436.00</td>\n",
       "      <td>1988.31</td>\n",
       "      <td>685.70</td>\n",
       "      <td>399.00</td>\n",
       "      <td>1490.00</td>\n",
       "      <td>1840.00</td>\n",
       "      <td>2370.00</td>\n",
       "      <td>6210.00</td>\n",
       "    </tr>\n",
       "    <tr>\n",
       "      <th>17</th>\n",
       "      <td>sqft_lot15</td>\n",
       "      <td>21436.00</td>\n",
       "      <td>12785.96</td>\n",
       "      <td>27375.47</td>\n",
       "      <td>651.00</td>\n",
       "      <td>5100.00</td>\n",
       "      <td>7620.00</td>\n",
       "      <td>10087.25</td>\n",
       "      <td>871200.00</td>\n",
       "    </tr>\n",
       "  </tbody>\n",
       "</table>\n",
       "</div>"
      ],
      "text/plain": [
       "        atributes    count          mean           std        min           25%        median           75%           max\n",
       "0              id 21436.00 4580765328.18 2876589633.67 1000102.00 2123700078.75 3904921185.00 7308675062.50 9900000190.00\n",
       "1           price 21436.00     540529.29     367689.30   75000.00     322150.00     450000.00     645000.00    7700000.00\n",
       "2        bedrooms 21436.00          3.37          0.93       0.00          3.00          3.00          4.00         33.00\n",
       "3       bathrooms 21436.00          2.12          0.77       0.00          1.75          2.25          2.50          8.00\n",
       "4     sqft_living 21436.00       2082.70        919.15     290.00       1430.00       1920.00       2550.00      13540.00\n",
       "5        sqft_lot 21436.00      15135.64      41538.62     520.00       5040.00       7614.00      10696.25    1651359.00\n",
       "6          floors 21436.00          1.50          0.54       1.00          1.00          1.50          2.00          3.50\n",
       "7      waterfront 21436.00          0.01          0.09       0.00          0.00          0.00          0.00          1.00\n",
       "8            view 21436.00          0.24          0.77       0.00          0.00          0.00          0.00          4.00\n",
       "9       condition 21436.00          3.41          0.65       1.00          3.00          3.00          4.00          5.00\n",
       "10          grade 21436.00          7.66          1.17       1.00          7.00          7.00          8.00         13.00\n",
       "11     sqft_above 21436.00       1790.96        829.03     290.00       1200.00       1560.00       2220.00       9410.00\n",
       "12  sqft_basement 21436.00        291.74        442.78       0.00          0.00          0.00        560.00       4820.00\n",
       "13        zipcode 21436.00      98077.86         53.47   98001.00      98033.00      98065.00      98117.00      98199.00\n",
       "14            lat 21436.00         47.56          0.14      47.16         47.47         47.57         47.68         47.78\n",
       "15           long 21436.00       -122.21          0.14    -122.52       -122.33       -122.23       -122.12       -121.31\n",
       "16  sqft_living15 21436.00       1988.31        685.70     399.00       1490.00       1840.00       2370.00       6210.00\n",
       "17     sqft_lot15 21436.00      12785.96      27375.47     651.00       5100.00       7620.00      10087.25     871200.00"
      ]
     },
     "execution_count": 23,
     "metadata": {},
     "output_type": "execute_result"
    }
   ],
   "source": [
    "desc = df_num.describe().T.reset_index()\n",
    "desc.rename(columns={'index':'atributes','50%':'median'},inplace=True)\n",
    "desc"
   ]
  },
  {
   "cell_type": "code",
   "execution_count": 24,
   "metadata": {
    "ExecuteTime": {
     "end_time": "2022-03-11T14:16:47.870619Z",
     "start_time": "2022-03-11T14:16:43.848846Z"
    }
   },
   "outputs": [
    {
     "data": {
      "image/png": "[encoded data removed]",
      "text/plain": [
       "<Figure size 1800x864 with 20 Axes>"
      ]
     },
     "metadata": {},
     "output_type": "display_data"
    }
   ],
   "source": [
    "df_num.hist(bins=30);"
   ]
  },
  {
   "cell_type": "markdown",
   "metadata": {},
   "source": [
    "## Remove input erros and unnecessary variables"
   ]
  },
  {
   "cell_type": "code",
   "execution_count": 25,
   "metadata": {
    "ExecuteTime": {
     "end_time": "2022-03-11T14:16:47.886641Z",
     "start_time": "2022-03-11T14:16:47.876603Z"
    }
   },
   "outputs": [],
   "source": [
    "data = df.drop(['sqft_living15','sqft_lot15'],axis=1).copy()"
   ]
  },
  {
   "cell_type": "markdown",
   "metadata": {},
   "source": [
    "The sqft_living15 and sqft_lot15 are unless to our analysis "
   ]
  },
  {
   "cell_type": "code",
   "execution_count": 26,
   "metadata": {
    "ExecuteTime": {
     "end_time": "2022-03-11T14:16:47.918533Z",
     "start_time": "2022-03-11T14:16:47.892561Z"
    }
   },
   "outputs": [
    {
     "name": "stdout",
     "output_type": "stream",
     "text": [
      "    bedrooms  sqft_living\n",
      "0          1       884.94\n",
      "1          2      1240.54\n",
      "2         33      1620.00\n",
      "3          0      1707.85\n",
      "4          3      1807.60\n",
      "5          4      2556.00\n",
      "6         11      3000.00\n",
      "7          5      3054.82\n",
      "8          6      3310.76\n",
      "9         10      3706.67\n",
      "10         9      3775.00\n",
      "11         8      3800.00\n",
      "12         7      3974.21\n"
     ]
    }
   ],
   "source": [
    "print(data[['bedrooms','sqft_living']].groupby('bedrooms').mean().sort_values('sqft_living',ascending=True).reset_index())"
   ]
  },
  {
   "cell_type": "markdown",
   "metadata": {},
   "source": [
    "The properties with 33 and 11 bedrooms have smaler, on average, sqft living than properties with less bedrooms, so they will be classified as input erros and will be removed"
   ]
  },
  {
   "cell_type": "code",
   "execution_count": 27,
   "metadata": {
    "ExecuteTime": {
     "end_time": "2022-03-11T14:16:47.981089Z",
     "start_time": "2022-03-11T14:16:47.921483Z"
    }
   },
   "outputs": [],
   "source": [
    "data = data.loc[(data['bedrooms'] != 11)&(data['bedrooms']!=33)]"
   ]
  },
  {
   "cell_type": "markdown",
   "metadata": {},
   "source": [
    "![purple-divider](https://user-images.githubusercontent.com/7065401/52071927-c1cd7100-2562-11e9-908a-dde91ba14e59.png)\n",
    "# Add features"
   ]
  },
  {
   "cell_type": "markdown",
   "metadata": {},
   "source": [
    "### Median price by zipcode"
   ]
  },
  {
   "cell_type": "code",
   "execution_count": 28,
   "metadata": {
    "ExecuteTime": {
     "end_time": "2022-03-11T14:16:47.997051Z",
     "start_time": "2022-03-11T14:16:47.983088Z"
    }
   },
   "outputs": [],
   "source": [
    "df_zip = data[['price','zipcode']].groupby('zipcode').median().reset_index()\n",
    "df_zip.columns = ['zipcode','median_price_zip']"
   ]
  },
  {
   "cell_type": "markdown",
   "metadata": {},
   "source": [
    "### create month, year and year_month columns"
   ]
  },
  {
   "cell_type": "code",
   "execution_count": 29,
   "metadata": {
    "ExecuteTime": {
     "end_time": "2022-03-11T14:16:48.343848Z",
     "start_time": "2022-03-11T14:16:47.999048Z"
    }
   },
   "outputs": [],
   "source": [
    "data['month'] = pd.to_datetime(data['date']).dt.month\n",
    "data['year_month'] = pd.to_datetime(data['date']).dt.strftime(\"%Y-%m\")\n",
    "data['year'] = pd.to_datetime(data['date']).dt.year"
   ]
  },
  {
   "cell_type": "markdown",
   "metadata": {},
   "source": [
    "### seasons (summer, winter,spring, fall)"
   ]
  },
  {
   "cell_type": "code",
   "execution_count": 30,
   "metadata": {
    "ExecuteTime": {
     "end_time": "2022-03-11T14:16:48.375784Z",
     "start_time": "2022-03-11T14:16:48.345849Z"
    }
   },
   "outputs": [],
   "source": [
    "winter_month = [12,1,2]\n",
    "spring_month = [3,4,5]\n",
    "summer_month = [6,7,8]\n",
    "fall_month = [9,10,11]\n",
    "data['season'] = data['month'].apply(lambda x: 'winter' if  x in winter_month else \n",
    "                                  ('spring' if x in spring_month else\n",
    "                                   ('summer' if x in summer_month else\n",
    "                                    ('fall' if x in fall_month else 'NA'))))"
   ]
  },
  {
   "cell_type": "code",
   "execution_count": 31,
   "metadata": {
    "ExecuteTime": {
     "end_time": "2022-03-11T14:16:48.484519Z",
     "start_time": "2022-03-11T14:16:48.377784Z"
    },
    "scrolled": true
   },
   "outputs": [
    {
     "data": {
      "text/plain": [
       "spring    6422\n",
       "summer    6326\n",
       "fall      5048\n",
       "winter    3638\n",
       "Name: season, dtype: int64"
      ]
     },
     "execution_count": 31,
     "metadata": {},
     "output_type": "execute_result"
    }
   ],
   "source": [
    "data['season'].value_counts()"
   ]
  },
  {
   "cell_type": "markdown",
   "metadata": {},
   "source": [
    "### Median price by zipcode + season"
   ]
  },
  {
   "cell_type": "code",
   "execution_count": 32,
   "metadata": {
    "ExecuteTime": {
     "end_time": "2022-03-11T14:16:48.531376Z",
     "start_time": "2022-03-11T14:16:48.490212Z"
    }
   },
   "outputs": [],
   "source": [
    "df_season = data[['price','zipcode','season']].groupby(['zipcode','season']).median().reset_index()\n",
    "df_season.columns = ['zipcode','season','median_price_season']"
   ]
  },
  {
   "cell_type": "markdown",
   "metadata": {},
   "source": [
    "### house age"
   ]
  },
  {
   "cell_type": "code",
   "execution_count": 33,
   "metadata": {
    "ExecuteTime": {
     "end_time": "2022-03-11T14:16:50.494149Z",
     "start_time": "2022-03-11T14:16:48.533376Z"
    }
   },
   "outputs": [],
   "source": [
    "data['house_age'] = data['yr_built'].apply(lambda x: 'old' if x <= pd.to_datetime('1955-01-01') else 'new')"
   ]
  },
  {
   "cell_type": "code",
   "execution_count": 34,
   "metadata": {
    "ExecuteTime": {
     "end_time": "2022-03-11T14:16:50.523777Z",
     "start_time": "2022-03-11T14:16:50.496850Z"
    }
   },
   "outputs": [
    {
     "data": {
      "text/plain": [
       "new    15078\n",
       "old     6356\n",
       "Name: house_age, dtype: int64"
      ]
     },
     "execution_count": 34,
     "metadata": {},
     "output_type": "execute_result"
    }
   ],
   "source": [
    "data['house_age'].value_counts()"
   ]
  },
  {
   "cell_type": "markdown",
   "metadata": {},
   "source": [
    "### basement"
   ]
  },
  {
   "cell_type": "code",
   "execution_count": 35,
   "metadata": {
    "ExecuteTime": {
     "end_time": "2022-03-11T14:16:50.555030Z",
     "start_time": "2022-03-11T14:16:50.525771Z"
    }
   },
   "outputs": [],
   "source": [
    "data['basement'] = data['sqft_basement'].apply(lambda x: 'yes' if x > 0 else 'no')"
   ]
  },
  {
   "cell_type": "code",
   "execution_count": 36,
   "metadata": {
    "ExecuteTime": {
     "end_time": "2022-03-11T14:16:50.570935Z",
     "start_time": "2022-03-11T14:16:50.558958Z"
    },
    "scrolled": true
   },
   "outputs": [
    {
     "data": {
      "text/plain": [
       "no     13015\n",
       "yes     8419\n",
       "Name: basement, dtype: int64"
      ]
     },
     "execution_count": 36,
     "metadata": {},
     "output_type": "execute_result"
    }
   ],
   "source": [
    "data['basement'].value_counts()"
   ]
  },
  {
   "cell_type": "markdown",
   "metadata": {},
   "source": [
    "### waterfront"
   ]
  },
  {
   "cell_type": "code",
   "execution_count": 37,
   "metadata": {
    "ExecuteTime": {
     "end_time": "2022-03-11T14:16:50.601960Z",
     "start_time": "2022-03-11T14:16:50.575913Z"
    }
   },
   "outputs": [],
   "source": [
    "data['waterfront'] = data['waterfront'].apply(lambda x: 'yes' if x==1 else 'no')"
   ]
  },
  {
   "cell_type": "markdown",
   "metadata": {},
   "source": [
    "# Business questions"
   ]
  },
  {
   "cell_type": "markdown",
   "metadata": {},
   "source": [
    "## Suggestions for buying"
   ]
  },
  {
   "cell_type": "code",
   "execution_count": 38,
   "metadata": {
    "ExecuteTime": {
     "end_time": "2022-03-11T14:16:50.681749Z",
     "start_time": "2022-03-11T14:16:50.606943Z"
    }
   },
   "outputs": [],
   "source": [
    "aux = pd.merge(data,df_zip,on='zipcode',how='inner')"
   ]
  },
  {
   "cell_type": "code",
   "execution_count": 39,
   "metadata": {
    "ExecuteTime": {
     "end_time": "2022-03-11T14:16:50.713694Z",
     "start_time": "2022-03-11T14:16:50.683737Z"
    }
   },
   "outputs": [],
   "source": [
    "df_buy = aux[['id','date','price','zipcode','median_price_zip','condition']].copy()"
   ]
  },
  {
   "cell_type": "code",
   "execution_count": 40,
   "metadata": {
    "ExecuteTime": {
     "end_time": "2022-03-11T14:17:03.428775Z",
     "start_time": "2022-03-11T14:16:50.715694Z"
    }
   },
   "outputs": [],
   "source": [
    "df_buy['status'] = 'NA'\n",
    "for i in range(len(df_buy)):\n",
    "    if ((df_buy.loc[i,'price'] < df_buy.loc[i,'median_price_zip'])&(df_buy.loc[i,'condition']>=3)):\n",
    "        df_buy.loc[i,'status'] = 'buy'\n",
    "    else:\n",
    "        df_buy.loc[i,'status'] = 'not buy'"
   ]
  },
  {
   "cell_type": "code",
   "execution_count": 41,
   "metadata": {
    "ExecuteTime": {
     "end_time": "2022-03-11T14:17:03.444743Z",
     "start_time": "2022-03-11T14:17:03.430778Z"
    }
   },
   "outputs": [
    {
     "data": {
      "text/plain": [
       "not buy    10936\n",
       "buy        10498\n",
       "Name: status, dtype: int64"
      ]
     },
     "execution_count": 41,
     "metadata": {},
     "output_type": "execute_result"
    }
   ],
   "source": [
    "df_buy['status'].value_counts()"
   ]
  },
  {
   "cell_type": "markdown",
   "metadata": {},
   "source": [
    "## Best moment to sell"
   ]
  },
  {
   "cell_type": "code",
   "execution_count": 42,
   "metadata": {
    "ExecuteTime": {
     "end_time": "2022-03-11T14:17:03.585440Z",
     "start_time": "2022-03-11T14:17:03.446734Z"
    }
   },
   "outputs": [],
   "source": [
    "aux = pd.merge(aux,df_season,on=['zipcode','season'],how='inner')"
   ]
  },
  {
   "cell_type": "code",
   "execution_count": 43,
   "metadata": {
    "ExecuteTime": {
     "end_time": "2022-03-11T14:17:03.619350Z",
     "start_time": "2022-03-11T14:17:03.590428Z"
    }
   },
   "outputs": [],
   "source": [
    "df_sell = aux.copy()"
   ]
  },
  {
   "cell_type": "code",
   "execution_count": 44,
   "metadata": {
    "ExecuteTime": {
     "end_time": "2022-03-11T14:17:03.648948Z",
     "start_time": "2022-03-11T14:17:03.628325Z"
    }
   },
   "outputs": [],
   "source": [
    "df_sell['status'] = df_buy['status']"
   ]
  },
  {
   "cell_type": "code",
   "execution_count": 45,
   "metadata": {
    "ExecuteTime": {
     "end_time": "2022-03-11T14:17:03.695576Z",
     "start_time": "2022-03-11T14:17:03.652949Z"
    }
   },
   "outputs": [],
   "source": [
    "df_sell = df_sell[df_sell['status']=='buy'].reset_index()"
   ]
  },
  {
   "cell_type": "code",
   "execution_count": 46,
   "metadata": {
    "ExecuteTime": {
     "end_time": "2022-03-11T14:17:03.726512Z",
     "start_time": "2022-03-11T14:17:03.697577Z"
    }
   },
   "outputs": [],
   "source": [
    "df_sell.drop('index',inplace=True,axis=1)"
   ]
  },
  {
   "cell_type": "code",
   "execution_count": 47,
   "metadata": {
    "ExecuteTime": {
     "end_time": "2022-03-11T14:17:07.295893Z",
     "start_time": "2022-03-11T14:17:03.728495Z"
    }
   },
   "outputs": [],
   "source": [
    "for i in range(len(df_sell)):\n",
    "    if ((df_sell.loc[i,'price'] < df_sell.loc[i,'median_price_season'])):\n",
    "        df_sell.loc[i,'selling_price'] = 1.3*df_sell.loc[i,'price']\n",
    "    else:\n",
    "        df_sell.loc[i,'selling_price'] = 1.1*df_sell.loc[i,'price']"
   ]
  },
  {
   "cell_type": "code",
   "execution_count": 48,
   "metadata": {
    "ExecuteTime": {
     "end_time": "2022-03-11T14:17:07.311864Z",
     "start_time": "2022-03-11T14:17:07.297902Z"
    }
   },
   "outputs": [],
   "source": [
    "df_sell['profit'] = df_sell['selling_price'] - df_sell['price'] "
   ]
  },
  {
   "cell_type": "code",
   "execution_count": 49,
   "metadata": {
    "ExecuteTime": {
     "end_time": "2022-03-11T14:17:07.359772Z",
     "start_time": "2022-03-11T14:17:07.313858Z"
    },
    "scrolled": true
   },
   "outputs": [
    {
     "data": {
      "text/html": [
       "<div>\n",
       "<style scoped>\n",
       "    .dataframe tbody tr th:only-of-type {\n",
       "        vertical-align: middle;\n",
       "    }\n",
       "\n",
       "    .dataframe tbody tr th {\n",
       "        vertical-align: top;\n",
       "    }\n",
       "\n",
       "    .dataframe thead th {\n",
       "        text-align: right;\n",
       "    }\n",
       "</style>\n",
       "<table border=\"1\" class=\"dataframe\">\n",
       "  <thead>\n",
       "    <tr style=\"text-align: right;\">\n",
       "      <th></th>\n",
       "      <th>id</th>\n",
       "      <th>date</th>\n",
       "      <th>price</th>\n",
       "      <th>bedrooms</th>\n",
       "      <th>bathrooms</th>\n",
       "      <th>sqft_living</th>\n",
       "      <th>sqft_lot</th>\n",
       "      <th>floors</th>\n",
       "      <th>waterfront</th>\n",
       "      <th>view</th>\n",
       "      <th>condition</th>\n",
       "      <th>grade</th>\n",
       "      <th>sqft_above</th>\n",
       "      <th>sqft_basement</th>\n",
       "      <th>yr_built</th>\n",
       "      <th>yr_renovated</th>\n",
       "      <th>zipcode</th>\n",
       "      <th>lat</th>\n",
       "      <th>long</th>\n",
       "      <th>month</th>\n",
       "      <th>year_month</th>\n",
       "      <th>year</th>\n",
       "      <th>season</th>\n",
       "      <th>house_age</th>\n",
       "      <th>basement</th>\n",
       "      <th>median_price_zip</th>\n",
       "      <th>median_price_season</th>\n",
       "      <th>status</th>\n",
       "      <th>selling_price</th>\n",
       "      <th>profit</th>\n",
       "    </tr>\n",
       "  </thead>\n",
       "  <tbody>\n",
       "    <tr>\n",
       "      <th>0</th>\n",
       "      <td>7129300520</td>\n",
       "      <td>2014-10-13</td>\n",
       "      <td>221900.00</td>\n",
       "      <td>3</td>\n",
       "      <td>1.00</td>\n",
       "      <td>1180</td>\n",
       "      <td>5650</td>\n",
       "      <td>1.00</td>\n",
       "      <td>no</td>\n",
       "      <td>0</td>\n",
       "      <td>3</td>\n",
       "      <td>7</td>\n",
       "      <td>1180</td>\n",
       "      <td>0</td>\n",
       "      <td>1955-01-01</td>\n",
       "      <td>1970-01-01</td>\n",
       "      <td>98178</td>\n",
       "      <td>47.51</td>\n",
       "      <td>-122.26</td>\n",
       "      <td>10</td>\n",
       "      <td>2014-10</td>\n",
       "      <td>2014</td>\n",
       "      <td>fall</td>\n",
       "      <td>old</td>\n",
       "      <td>no</td>\n",
       "      <td>279000.00</td>\n",
       "      <td>290500.00</td>\n",
       "      <td>buy</td>\n",
       "      <td>288470.00</td>\n",
       "      <td>66570.00</td>\n",
       "    </tr>\n",
       "    <tr>\n",
       "      <th>1</th>\n",
       "      <td>2976800796</td>\n",
       "      <td>2014-09-25</td>\n",
       "      <td>236000.00</td>\n",
       "      <td>3</td>\n",
       "      <td>1.00</td>\n",
       "      <td>1300</td>\n",
       "      <td>5898</td>\n",
       "      <td>1.00</td>\n",
       "      <td>no</td>\n",
       "      <td>0</td>\n",
       "      <td>3</td>\n",
       "      <td>7</td>\n",
       "      <td>1300</td>\n",
       "      <td>0</td>\n",
       "      <td>1961-01-01</td>\n",
       "      <td>1970-01-01</td>\n",
       "      <td>98178</td>\n",
       "      <td>47.51</td>\n",
       "      <td>-122.25</td>\n",
       "      <td>9</td>\n",
       "      <td>2014-09</td>\n",
       "      <td>2014</td>\n",
       "      <td>fall</td>\n",
       "      <td>new</td>\n",
       "      <td>no</td>\n",
       "      <td>279000.00</td>\n",
       "      <td>290500.00</td>\n",
       "      <td>buy</td>\n",
       "      <td>306800.00</td>\n",
       "      <td>70800.00</td>\n",
       "    </tr>\n",
       "    <tr>\n",
       "      <th>2</th>\n",
       "      <td>2171400197</td>\n",
       "      <td>2014-09-18</td>\n",
       "      <td>350000.00</td>\n",
       "      <td>5</td>\n",
       "      <td>3.00</td>\n",
       "      <td>2520</td>\n",
       "      <td>5500</td>\n",
       "      <td>1.00</td>\n",
       "      <td>no</td>\n",
       "      <td>0</td>\n",
       "      <td>3</td>\n",
       "      <td>8</td>\n",
       "      <td>1550</td>\n",
       "      <td>970</td>\n",
       "      <td>2004-01-01</td>\n",
       "      <td>1970-01-01</td>\n",
       "      <td>98178</td>\n",
       "      <td>47.49</td>\n",
       "      <td>-122.25</td>\n",
       "      <td>9</td>\n",
       "      <td>2014-09</td>\n",
       "      <td>2014</td>\n",
       "      <td>fall</td>\n",
       "      <td>new</td>\n",
       "      <td>yes</td>\n",
       "      <td>279000.00</td>\n",
       "      <td>290500.00</td>\n",
       "      <td>buy</td>\n",
       "      <td>385000.00</td>\n",
       "      <td>35000.00</td>\n",
       "    </tr>\n",
       "    <tr>\n",
       "      <th>3</th>\n",
       "      <td>1180002378</td>\n",
       "      <td>2014-09-26</td>\n",
       "      <td>299000.00</td>\n",
       "      <td>4</td>\n",
       "      <td>2.50</td>\n",
       "      <td>1950</td>\n",
       "      <td>3000</td>\n",
       "      <td>2.00</td>\n",
       "      <td>no</td>\n",
       "      <td>0</td>\n",
       "      <td>3</td>\n",
       "      <td>7</td>\n",
       "      <td>1950</td>\n",
       "      <td>0</td>\n",
       "      <td>2002-01-01</td>\n",
       "      <td>1970-01-01</td>\n",
       "      <td>98178</td>\n",
       "      <td>47.50</td>\n",
       "      <td>-122.23</td>\n",
       "      <td>9</td>\n",
       "      <td>2014-09</td>\n",
       "      <td>2014</td>\n",
       "      <td>fall</td>\n",
       "      <td>new</td>\n",
       "      <td>no</td>\n",
       "      <td>279000.00</td>\n",
       "      <td>290500.00</td>\n",
       "      <td>buy</td>\n",
       "      <td>328900.00</td>\n",
       "      <td>29900.00</td>\n",
       "    </tr>\n",
       "    <tr>\n",
       "      <th>4</th>\n",
       "      <td>1180500070</td>\n",
       "      <td>2014-11-24</td>\n",
       "      <td>335000.00</td>\n",
       "      <td>4</td>\n",
       "      <td>2.50</td>\n",
       "      <td>2330</td>\n",
       "      <td>7050</td>\n",
       "      <td>2.00</td>\n",
       "      <td>no</td>\n",
       "      <td>0</td>\n",
       "      <td>3</td>\n",
       "      <td>8</td>\n",
       "      <td>2330</td>\n",
       "      <td>0</td>\n",
       "      <td>1998-01-01</td>\n",
       "      <td>1970-01-01</td>\n",
       "      <td>98178</td>\n",
       "      <td>47.50</td>\n",
       "      <td>-122.23</td>\n",
       "      <td>11</td>\n",
       "      <td>2014-11</td>\n",
       "      <td>2014</td>\n",
       "      <td>fall</td>\n",
       "      <td>new</td>\n",
       "      <td>no</td>\n",
       "      <td>279000.00</td>\n",
       "      <td>290500.00</td>\n",
       "      <td>buy</td>\n",
       "      <td>368500.00</td>\n",
       "      <td>33500.00</td>\n",
       "    </tr>\n",
       "  </tbody>\n",
       "</table>\n",
       "</div>"
      ],
      "text/plain": [
       "           id       date     price  bedrooms  bathrooms  sqft_living  sqft_lot  floors waterfront  view  condition  grade  sqft_above  sqft_basement   yr_built yr_renovated  zipcode   lat    long  month year_month  year season house_age basement  median_price_zip  median_price_season status  selling_price   profit\n",
       "0  7129300520 2014-10-13 221900.00         3       1.00         1180      5650    1.00         no     0          3      7        1180              0 1955-01-01   1970-01-01    98178 47.51 -122.26     10    2014-10  2014   fall       old       no         279000.00            290500.00    buy      288470.00 66570.00\n",
       "1  2976800796 2014-09-25 236000.00         3       1.00         1300      5898    1.00         no     0          3      7        1300              0 1961-01-01   1970-01-01    98178 47.51 -122.25      9    2014-09  2014   fall       new       no         279000.00            290500.00    buy      306800.00 70800.00\n",
       "2  2171400197 2014-09-18 350000.00         5       3.00         2520      5500    1.00         no     0          3      8        1550            970 2004-01-01   1970-01-01    98178 47.49 -122.25      9    2014-09  2014   fall       new      yes         279000.00            290500.00    buy      385000.00 35000.00\n",
       "3  1180002378 2014-09-26 299000.00         4       2.50         1950      3000    2.00         no     0          3      7        1950              0 2002-01-01   1970-01-01    98178 47.50 -122.23      9    2014-09  2014   fall       new       no         279000.00            290500.00    buy      328900.00 29900.00\n",
       "4  1180500070 2014-11-24 335000.00         4       2.50         2330      7050    2.00         no     0          3      8        2330              0 1998-01-01   1970-01-01    98178 47.50 -122.23     11    2014-11  2014   fall       new       no         279000.00            290500.00    buy      368500.00 33500.00"
      ]
     },
     "execution_count": 49,
     "metadata": {},
     "output_type": "execute_result"
    }
   ],
   "source": [
    "df_sell.head()"
   ]
  },
  {
   "cell_type": "code",
   "execution_count": 50,
   "metadata": {
    "ExecuteTime": {
     "end_time": "2022-03-11T14:17:07.375694Z",
     "start_time": "2022-03-11T14:17:07.361730Z"
    }
   },
   "outputs": [
    {
     "name": "stdout",
     "output_type": "stream",
     "text": [
      "$5,656,988,504.00\n"
     ]
    }
   ],
   "source": [
    "total_investment = df_sell['price'].sum()\n",
    "print(f(total_investment))"
   ]
  },
  {
   "cell_type": "code",
   "execution_count": 51,
   "metadata": {
    "ExecuteTime": {
     "end_time": "2022-03-11T14:17:07.391653Z",
     "start_time": "2022-03-11T14:17:07.378685Z"
    }
   },
   "outputs": [
    {
     "name": "stdout",
     "output_type": "stream",
     "text": [
      "$6,622,652,682.20\n"
     ]
    }
   ],
   "source": [
    "valor_bruto_venda = df_sell['selling_price'].sum()\n",
    "print(f(valor_bruto_venda))"
   ]
  },
  {
   "cell_type": "code",
   "execution_count": 52,
   "metadata": {
    "ExecuteTime": {
     "end_time": "2022-03-11T14:17:07.407664Z",
     "start_time": "2022-03-11T14:17:07.394643Z"
    }
   },
   "outputs": [
    {
     "name": "stdout",
     "output_type": "stream",
     "text": [
      "$965,664,178.20\n"
     ]
    }
   ],
   "source": [
    "total_profit = df_sell['profit'].sum()\n",
    "print(f(total_profit))"
   ]
  },
  {
   "cell_type": "code",
   "execution_count": 53,
   "metadata": {
    "ExecuteTime": {
     "end_time": "2022-03-11T14:17:07.979863Z",
     "start_time": "2022-03-11T14:17:07.410602Z"
    }
   },
   "outputs": [],
   "source": [
    "df_sell.to_csv(\"../data/house_data_sugestion_sell.csv\",index=False)"
   ]
  },
  {
   "cell_type": "markdown",
   "metadata": {},
   "source": [
    "# Hypoteses test"
   ]
  },
  {
   "cell_type": "markdown",
   "metadata": {},
   "source": [
    "## h1: Properties with waterfront are 30% more expensive on average ?"
   ]
  },
  {
   "cell_type": "code",
   "execution_count": 54,
   "metadata": {
    "ExecuteTime": {
     "end_time": "2022-03-11T14:17:08.011237Z",
     "start_time": "2022-03-11T14:17:07.981867Z"
    },
    "scrolled": true
   },
   "outputs": [
    {
     "data": {
      "text/html": [
       "<div>\n",
       "<style scoped>\n",
       "    .dataframe tbody tr th:only-of-type {\n",
       "        vertical-align: middle;\n",
       "    }\n",
       "\n",
       "    .dataframe tbody tr th {\n",
       "        vertical-align: top;\n",
       "    }\n",
       "\n",
       "    .dataframe thead th {\n",
       "        text-align: right;\n",
       "    }\n",
       "</style>\n",
       "<table border=\"1\" class=\"dataframe\">\n",
       "  <thead>\n",
       "    <tr style=\"text-align: right;\">\n",
       "      <th></th>\n",
       "      <th>waterfront</th>\n",
       "      <th>price</th>\n",
       "    </tr>\n",
       "  </thead>\n",
       "  <tbody>\n",
       "    <tr>\n",
       "      <th>0</th>\n",
       "      <td>no</td>\n",
       "      <td>531932.68</td>\n",
       "    </tr>\n",
       "    <tr>\n",
       "      <th>1</th>\n",
       "      <td>yes</td>\n",
       "      <td>1661876.02</td>\n",
       "    </tr>\n",
       "  </tbody>\n",
       "</table>\n",
       "</div>"
      ],
      "text/plain": [
       "  waterfront      price\n",
       "0         no  531932.68\n",
       "1        yes 1661876.02"
      ]
     },
     "execution_count": 54,
     "metadata": {},
     "output_type": "execute_result"
    }
   ],
   "source": [
    "h1 = data[['price','waterfront']].groupby('waterfront').mean().reset_index()\n",
    "h1"
   ]
  },
  {
   "cell_type": "code",
   "execution_count": 55,
   "metadata": {
    "ExecuteTime": {
     "end_time": "2022-03-11T14:17:08.027203Z",
     "start_time": "2022-03-11T14:17:08.014237Z"
    }
   },
   "outputs": [],
   "source": [
    "no_water = h1.iloc[0,1]\n",
    "with_water = h1.iloc[1,1]"
   ]
  },
  {
   "cell_type": "code",
   "execution_count": 56,
   "metadata": {
    "ExecuteTime": {
     "end_time": "2022-03-11T14:17:08.043158Z",
     "start_time": "2022-03-11T14:17:08.030196Z"
    }
   },
   "outputs": [
    {
     "name": "stdout",
     "output_type": "stream",
     "text": [
      "212.42 %\n"
     ]
    }
   ],
   "source": [
    "print(dif(no_water,with_water),\"%\")"
   ]
  },
  {
   "cell_type": "markdown",
   "metadata": {},
   "source": [
    "**False:** Houses with waterfront are 212,42% more expensive on average, way more than expected so it's necessary a bigger investiment to add properties with waterfront in the company's portfolio"
   ]
  },
  {
   "cell_type": "code",
   "execution_count": 57,
   "metadata": {
    "ExecuteTime": {
     "end_time": "2022-03-11T14:17:08.579819Z",
     "start_time": "2022-03-11T14:17:08.046152Z"
    },
    "scrolled": true
   },
   "outputs": [
    {
     "data": {
      "image/png": "[encoded data removed]",
      "text/plain": [
       "<Figure size 1800x864 with 1 Axes>"
      ]
     },
     "metadata": {},
     "output_type": "display_data"
    }
   ],
   "source": [
    "fig = sns.boxplot(x='price',y='waterfront',data=data,orient='h')"
   ]
  },
  {
   "cell_type": "markdown",
   "metadata": {},
   "source": [
    "## h2: Properties with year of construction older than 1955 are 50% more cheap, on average ?"
   ]
  },
  {
   "cell_type": "code",
   "execution_count": 58,
   "metadata": {
    "ExecuteTime": {
     "end_time": "2022-03-11T14:17:08.610946Z",
     "start_time": "2022-03-11T14:17:08.588010Z"
    }
   },
   "outputs": [
    {
     "data": {
      "text/html": [
       "<div>\n",
       "<style scoped>\n",
       "    .dataframe tbody tr th:only-of-type {\n",
       "        vertical-align: middle;\n",
       "    }\n",
       "\n",
       "    .dataframe tbody tr th {\n",
       "        vertical-align: top;\n",
       "    }\n",
       "\n",
       "    .dataframe thead th {\n",
       "        text-align: right;\n",
       "    }\n",
       "</style>\n",
       "<table border=\"1\" class=\"dataframe\">\n",
       "  <thead>\n",
       "    <tr style=\"text-align: right;\">\n",
       "      <th></th>\n",
       "      <th>house_age</th>\n",
       "      <th>price</th>\n",
       "    </tr>\n",
       "  </thead>\n",
       "  <tbody>\n",
       "    <tr>\n",
       "      <th>0</th>\n",
       "      <td>new</td>\n",
       "      <td>543126.77</td>\n",
       "    </tr>\n",
       "    <tr>\n",
       "      <th>1</th>\n",
       "      <td>old</td>\n",
       "      <td>534354.99</td>\n",
       "    </tr>\n",
       "  </tbody>\n",
       "</table>\n",
       "</div>"
      ],
      "text/plain": [
       "  house_age     price\n",
       "0       new 543126.77\n",
       "1       old 534354.99"
      ]
     },
     "execution_count": 58,
     "metadata": {},
     "output_type": "execute_result"
    }
   ],
   "source": [
    "h2 = data[['price','house_age']].groupby('house_age').mean().reset_index()\n",
    "h2"
   ]
  },
  {
   "cell_type": "code",
   "execution_count": 59,
   "metadata": {
    "ExecuteTime": {
     "end_time": "2022-03-11T14:17:08.625905Z",
     "start_time": "2022-03-11T14:17:08.617929Z"
    }
   },
   "outputs": [],
   "source": [
    "old_price = h2.iloc[1,1]\n",
    "new_price = h2.iloc[0,1]"
   ]
  },
  {
   "cell_type": "code",
   "execution_count": 60,
   "metadata": {
    "ExecuteTime": {
     "end_time": "2022-03-11T14:17:08.641904Z",
     "start_time": "2022-03-11T14:17:08.628899Z"
    }
   },
   "outputs": [
    {
     "name": "stdout",
     "output_type": "stream",
     "text": [
      "1.64 %\n"
     ]
    }
   ],
   "source": [
    "print(round(((new_price-old_price)/old_price)*100,2),\"%\")"
   ]
  },
  {
   "cell_type": "markdown",
   "metadata": {},
   "source": [
    "**False:** Properties build before 1955 not are 50% more cheap on avarage than that buid after 1955, they are only 1,64% cheaper. So the company can buy both old and new houses with no significant diference os they prices"
   ]
  },
  {
   "cell_type": "code",
   "execution_count": 61,
   "metadata": {
    "ExecuteTime": {
     "end_time": "2022-03-11T14:17:09.223308Z",
     "start_time": "2022-03-11T14:17:08.644857Z"
    }
   },
   "outputs": [
    {
     "data": {
      "image/png": "[encoded data removed]",
      "text/plain": [
       "<Figure size 1800x864 with 1 Axes>"
      ]
     },
     "metadata": {},
     "output_type": "display_data"
    }
   ],
   "source": [
    "fig_2 = sns.boxplot(x='price',y='house_age',data=data,orient='h')"
   ]
  },
  {
   "cell_type": "markdown",
   "metadata": {},
   "source": [
    "## h3: Properties without basement has total area 40% bigger than those with basemente ?"
   ]
  },
  {
   "cell_type": "code",
   "execution_count": 62,
   "metadata": {
    "ExecuteTime": {
     "end_time": "2022-03-11T14:17:09.255223Z",
     "start_time": "2022-03-11T14:17:09.226301Z"
    }
   },
   "outputs": [
    {
     "data": {
      "text/html": [
       "<div>\n",
       "<style scoped>\n",
       "    .dataframe tbody tr th:only-of-type {\n",
       "        vertical-align: middle;\n",
       "    }\n",
       "\n",
       "    .dataframe tbody tr th {\n",
       "        vertical-align: top;\n",
       "    }\n",
       "\n",
       "    .dataframe thead th {\n",
       "        text-align: right;\n",
       "    }\n",
       "</style>\n",
       "<table border=\"1\" class=\"dataframe\">\n",
       "  <thead>\n",
       "    <tr style=\"text-align: right;\">\n",
       "      <th></th>\n",
       "      <th>basement</th>\n",
       "      <th>sqft_lot</th>\n",
       "    </tr>\n",
       "  </thead>\n",
       "  <tbody>\n",
       "    <tr>\n",
       "      <th>0</th>\n",
       "      <td>no</td>\n",
       "      <td>16325.93</td>\n",
       "    </tr>\n",
       "    <tr>\n",
       "      <th>1</th>\n",
       "      <td>yes</td>\n",
       "      <td>13297.85</td>\n",
       "    </tr>\n",
       "  </tbody>\n",
       "</table>\n",
       "</div>"
      ],
      "text/plain": [
       "  basement  sqft_lot\n",
       "0       no  16325.93\n",
       "1      yes  13297.85"
      ]
     },
     "execution_count": 62,
     "metadata": {},
     "output_type": "execute_result"
    }
   ],
   "source": [
    "h3 = data[['sqft_lot','basement']].groupby('basement').mean().reset_index()\n",
    "h3"
   ]
  },
  {
   "cell_type": "code",
   "execution_count": 63,
   "metadata": {
    "ExecuteTime": {
     "end_time": "2022-03-11T14:17:09.271181Z",
     "start_time": "2022-03-11T14:17:09.257218Z"
    }
   },
   "outputs": [],
   "source": [
    "with_base = h3.iloc[1,1]\n",
    "no_base = h3.iloc[0,1]"
   ]
  },
  {
   "cell_type": "code",
   "execution_count": 64,
   "metadata": {
    "ExecuteTime": {
     "end_time": "2022-03-11T14:17:09.287144Z",
     "start_time": "2022-03-11T14:17:09.274176Z"
    }
   },
   "outputs": [
    {
     "name": "stdout",
     "output_type": "stream",
     "text": [
      "22.77 %\n"
     ]
    }
   ],
   "source": [
    "print(round(((no_base-with_base)/with_base)*100,2),\"%\")"
   ]
  },
  {
   "cell_type": "markdown",
   "metadata": {},
   "source": [
    "**False:** Properties without no basemente are 22,77 % bigger than those with, still a significant diference if properties with large areas are in great demand invest in \"no basement\" can ensure a safe return."
   ]
  },
  {
   "cell_type": "code",
   "execution_count": 65,
   "metadata": {
    "ExecuteTime": {
     "end_time": "2022-03-11T14:17:10.067150Z",
     "start_time": "2022-03-11T14:17:09.291127Z"
    }
   },
   "outputs": [
    {
     "data": {
      "image/png": "[encoded data removed]",
      "text/plain": [
       "<Figure size 1800x864 with 1 Axes>"
      ]
     },
     "metadata": {},
     "output_type": "display_data"
    }
   ],
   "source": [
    "fig_3 = sns.barplot(x='basement',y='sqft_lot',data=data,estimator=mean)\n",
    "fig_3.set(title ='Area average comparison');"
   ]
  },
  {
   "cell_type": "markdown",
   "metadata": {},
   "source": [
    "# h4: The growth in propriety prices year over year is 10% on average ?"
   ]
  },
  {
   "cell_type": "code",
   "execution_count": 66,
   "metadata": {
    "ExecuteTime": {
     "end_time": "2022-03-11T14:17:10.098067Z",
     "start_time": "2022-03-11T14:17:10.070140Z"
    },
    "scrolled": true
   },
   "outputs": [
    {
     "data": {
      "text/html": [
       "<div>\n",
       "<style scoped>\n",
       "    .dataframe tbody tr th:only-of-type {\n",
       "        vertical-align: middle;\n",
       "    }\n",
       "\n",
       "    .dataframe tbody tr th {\n",
       "        vertical-align: top;\n",
       "    }\n",
       "\n",
       "    .dataframe thead th {\n",
       "        text-align: right;\n",
       "    }\n",
       "</style>\n",
       "<table border=\"1\" class=\"dataframe\">\n",
       "  <thead>\n",
       "    <tr style=\"text-align: right;\">\n",
       "      <th></th>\n",
       "      <th>year</th>\n",
       "      <th>price</th>\n",
       "    </tr>\n",
       "  </thead>\n",
       "  <tbody>\n",
       "    <tr>\n",
       "      <th>0</th>\n",
       "      <td>2014</td>\n",
       "      <td>539315.92</td>\n",
       "    </tr>\n",
       "    <tr>\n",
       "      <th>1</th>\n",
       "      <td>2015</td>\n",
       "      <td>543108.29</td>\n",
       "    </tr>\n",
       "  </tbody>\n",
       "</table>\n",
       "</div>"
      ],
      "text/plain": [
       "   year     price\n",
       "0  2014 539315.92\n",
       "1  2015 543108.29"
      ]
     },
     "execution_count": 66,
     "metadata": {},
     "output_type": "execute_result"
    }
   ],
   "source": [
    "h4 = data[['price','year']].groupby('year').mean().reset_index()\n",
    "h4"
   ]
  },
  {
   "cell_type": "code",
   "execution_count": 67,
   "metadata": {
    "ExecuteTime": {
     "end_time": "2022-03-11T14:17:10.114023Z",
     "start_time": "2022-03-11T14:17:10.102056Z"
    }
   },
   "outputs": [
    {
     "data": {
      "text/plain": [
       "0.7"
      ]
     },
     "execution_count": 67,
     "metadata": {},
     "output_type": "execute_result"
    }
   ],
   "source": [
    "price_2014 = h4.iloc[0,1]\n",
    "price_2015 = h4.iloc[1,1]\n",
    "dif(price_2014,price_2015)"
   ]
  },
  {
   "cell_type": "markdown",
   "metadata": {},
   "source": [
    "**False:** The growth of the average prices, year over year, it's only 0,7 %, we only have information between May 2014 and May 2015 so aparentily the YoY i'ts small but more onformation it's necessary to garantee the price behavior."
   ]
  },
  {
   "cell_type": "code",
   "execution_count": 68,
   "metadata": {
    "ExecuteTime": {
     "end_time": "2022-03-11T14:17:10.365350Z",
     "start_time": "2022-03-11T14:17:10.119010Z"
    },
    "scrolled": true
   },
   "outputs": [
    {
     "data": {
      "image/png": "[encoded data removed]",
      "text/plain": [
       "<Figure size 1800x864 with 1 Axes>"
      ]
     },
     "metadata": {},
     "output_type": "display_data"
    }
   ],
   "source": [
    "fig_4 = sns.barplot(x='year',y='price',data=h4)"
   ]
  },
  {
   "cell_type": "markdown",
   "metadata": {},
   "source": [
    "# h5: Properties with 3 bathrooms has a growth month-over-month of 15% ?"
   ]
  },
  {
   "cell_type": "code",
   "execution_count": 69,
   "metadata": {
    "ExecuteTime": {
     "end_time": "2022-03-11T14:17:10.396778Z",
     "start_time": "2022-03-11T14:17:10.367347Z"
    }
   },
   "outputs": [],
   "source": [
    "h5 = data.loc[data['bedrooms']==3,['price','year_month']].groupby('year_month').mean().reset_index()\n",
    "h5 = MoM(h5)"
   ]
  },
  {
   "cell_type": "code",
   "execution_count": 70,
   "metadata": {
    "ExecuteTime": {
     "end_time": "2022-03-11T14:17:10.412741Z",
     "start_time": "2022-03-11T14:17:10.400771Z"
    },
    "scrolled": true
   },
   "outputs": [
    {
     "data": {
      "text/html": [
       "<div>\n",
       "<style scoped>\n",
       "    .dataframe tbody tr th:only-of-type {\n",
       "        vertical-align: middle;\n",
       "    }\n",
       "\n",
       "    .dataframe tbody tr th {\n",
       "        vertical-align: top;\n",
       "    }\n",
       "\n",
       "    .dataframe thead th {\n",
       "        text-align: right;\n",
       "    }\n",
       "</style>\n",
       "<table border=\"1\" class=\"dataframe\">\n",
       "  <thead>\n",
       "    <tr style=\"text-align: right;\">\n",
       "      <th></th>\n",
       "      <th>year_month</th>\n",
       "      <th>price</th>\n",
       "      <th>MoM_%</th>\n",
       "    </tr>\n",
       "  </thead>\n",
       "  <tbody>\n",
       "    <tr>\n",
       "      <th>0</th>\n",
       "      <td>2014-05</td>\n",
       "      <td>463817.20</td>\n",
       "      <td>0.00</td>\n",
       "    </tr>\n",
       "    <tr>\n",
       "      <th>1</th>\n",
       "      <td>2014-06</td>\n",
       "      <td>480691.25</td>\n",
       "      <td>3.64</td>\n",
       "    </tr>\n",
       "    <tr>\n",
       "      <th>2</th>\n",
       "      <td>2014-07</td>\n",
       "      <td>467482.83</td>\n",
       "      <td>-2.75</td>\n",
       "    </tr>\n",
       "    <tr>\n",
       "      <th>3</th>\n",
       "      <td>2014-08</td>\n",
       "      <td>463872.73</td>\n",
       "      <td>-0.77</td>\n",
       "    </tr>\n",
       "    <tr>\n",
       "      <th>4</th>\n",
       "      <td>2014-09</td>\n",
       "      <td>454975.98</td>\n",
       "      <td>-1.92</td>\n",
       "    </tr>\n",
       "    <tr>\n",
       "      <th>5</th>\n",
       "      <td>2014-10</td>\n",
       "      <td>462632.42</td>\n",
       "      <td>1.68</td>\n",
       "    </tr>\n",
       "    <tr>\n",
       "      <th>6</th>\n",
       "      <td>2014-11</td>\n",
       "      <td>457733.68</td>\n",
       "      <td>-1.06</td>\n",
       "    </tr>\n",
       "    <tr>\n",
       "      <th>7</th>\n",
       "      <td>2014-12</td>\n",
       "      <td>446003.93</td>\n",
       "      <td>-2.56</td>\n",
       "    </tr>\n",
       "    <tr>\n",
       "      <th>8</th>\n",
       "      <td>2015-01</td>\n",
       "      <td>459165.61</td>\n",
       "      <td>2.95</td>\n",
       "    </tr>\n",
       "    <tr>\n",
       "      <th>9</th>\n",
       "      <td>2015-02</td>\n",
       "      <td>461183.83</td>\n",
       "      <td>0.44</td>\n",
       "    </tr>\n",
       "    <tr>\n",
       "      <th>10</th>\n",
       "      <td>2015-03</td>\n",
       "      <td>472798.75</td>\n",
       "      <td>2.52</td>\n",
       "    </tr>\n",
       "    <tr>\n",
       "      <th>11</th>\n",
       "      <td>2015-04</td>\n",
       "      <td>489487.33</td>\n",
       "      <td>3.53</td>\n",
       "    </tr>\n",
       "    <tr>\n",
       "      <th>12</th>\n",
       "      <td>2015-05</td>\n",
       "      <td>463356.31</td>\n",
       "      <td>-5.34</td>\n",
       "    </tr>\n",
       "  </tbody>\n",
       "</table>\n",
       "</div>"
      ],
      "text/plain": [
       "   year_month     price  MoM_%\n",
       "0     2014-05 463817.20   0.00\n",
       "1     2014-06 480691.25   3.64\n",
       "2     2014-07 467482.83  -2.75\n",
       "3     2014-08 463872.73  -0.77\n",
       "4     2014-09 454975.98  -1.92\n",
       "5     2014-10 462632.42   1.68\n",
       "6     2014-11 457733.68  -1.06\n",
       "7     2014-12 446003.93  -2.56\n",
       "8     2015-01 459165.61   2.95\n",
       "9     2015-02 461183.83   0.44\n",
       "10    2015-03 472798.75   2.52\n",
       "11    2015-04 489487.33   3.53\n",
       "12    2015-05 463356.31  -5.34"
      ]
     },
     "execution_count": 70,
     "metadata": {},
     "output_type": "execute_result"
    }
   ],
   "source": [
    "h5"
   ]
  },
  {
   "cell_type": "code",
   "execution_count": 71,
   "metadata": {
    "ExecuteTime": {
     "end_time": "2022-03-11T14:17:10.427698Z",
     "start_time": "2022-03-11T14:17:10.414734Z"
    }
   },
   "outputs": [
    {
     "name": "stdout",
     "output_type": "stream",
     "text": [
      "0.028 %\n"
     ]
    }
   ],
   "source": [
    "print(round(h5['MoM_%'].mean(),3),\"%\")"
   ]
  },
  {
   "cell_type": "code",
   "execution_count": 72,
   "metadata": {
    "ExecuteTime": {
     "end_time": "2022-03-11T14:17:10.443656Z",
     "start_time": "2022-03-11T14:17:10.429704Z"
    }
   },
   "outputs": [
    {
     "name": "stdout",
     "output_type": "stream",
     "text": [
      "0.36 %\n"
     ]
    }
   ],
   "source": [
    "print(round(h5['MoM_%'].sum(),3),\"%\")"
   ]
  },
  {
   "cell_type": "markdown",
   "metadata": {},
   "source": [
    "**False:** The average growth month-over-month of properties with 3 bedrooms was only 0.028% in the period of 2014-05 to 2015-05."
   ]
  },
  {
   "cell_type": "code",
   "execution_count": 73,
   "metadata": {
    "ExecuteTime": {
     "end_time": "2022-03-11T14:17:10.773444Z",
     "start_time": "2022-03-11T14:17:10.445651Z"
    },
    "scrolled": true
   },
   "outputs": [
    {
     "data": {
      "image/png": "[encoded data removed]",
      "text/plain": [
       "<Figure size 1800x864 with 1 Axes>"
      ]
     },
     "metadata": {},
     "output_type": "display_data"
    }
   ],
   "source": [
    "fig_5b = sns.barplot(x='year_month',y='price',data=h5)"
   ]
  },
  {
   "cell_type": "code",
   "execution_count": 74,
   "metadata": {
    "ExecuteTime": {
     "end_time": "2022-03-11T14:17:11.086935Z",
     "start_time": "2022-03-11T14:17:10.777395Z"
    },
    "scrolled": true
   },
   "outputs": [
    {
     "data": {
      "image/png": "[encoded data removed]",
      "text/plain": [
       "<Figure size 1800x864 with 1 Axes>"
      ]
     },
     "metadata": {},
     "output_type": "display_data"
    }
   ],
   "source": [
    "fig_5a = sns.lineplot(x='year_month',y='MoM_%',data=h5)"
   ]
  },
  {
   "cell_type": "markdown",
   "metadata": {},
   "source": [
    "# h6: Properties with waterfront has a growth month-over-month biggher than that without ?"
   ]
  },
  {
   "cell_type": "code",
   "execution_count": 75,
   "metadata": {
    "ExecuteTime": {
     "end_time": "2022-03-11T14:17:11.133869Z",
     "start_time": "2022-03-11T14:17:11.088888Z"
    }
   },
   "outputs": [],
   "source": [
    "h6_a = data.loc[data['waterfront']=='no',['price','year_month']].groupby(['year_month']).mean().reset_index()\n",
    "h6_b = data.loc[data['waterfront']=='yes',['price','year_month']].groupby(['year_month']).mean().reset_index()"
   ]
  },
  {
   "cell_type": "code",
   "execution_count": 76,
   "metadata": {
    "ExecuteTime": {
     "end_time": "2022-03-11T14:17:11.164188Z",
     "start_time": "2022-03-11T14:17:11.137866Z"
    }
   },
   "outputs": [],
   "source": [
    "h6_a = MoM(h6_a)\n",
    "h6_b = MoM(h6_b)"
   ]
  },
  {
   "cell_type": "code",
   "execution_count": 77,
   "metadata": {
    "ExecuteTime": {
     "end_time": "2022-03-11T14:17:11.179619Z",
     "start_time": "2022-03-11T14:17:11.166964Z"
    }
   },
   "outputs": [
    {
     "name": "stdout",
     "output_type": "stream",
     "text": [
      "Average MoM: 0.2 %, last 12 months cumulative: 2.56 %\n"
     ]
    }
   ],
   "source": [
    "print('Average MoM:',round(h6_a['MoM_%'].mean(),2),'%, last 12 months cumulative:', round(h6_a['MoM_%'].sum(),2),'%')"
   ]
  },
  {
   "cell_type": "code",
   "execution_count": 78,
   "metadata": {
    "ExecuteTime": {
     "end_time": "2022-03-11T14:17:11.195636Z",
     "start_time": "2022-03-11T14:17:11.182429Z"
    }
   },
   "outputs": [
    {
     "name": "stdout",
     "output_type": "stream",
     "text": [
      "Average MoM: 4.81 %, last 12 months cumulative: 62.51 %\n"
     ]
    }
   ],
   "source": [
    "print('Average MoM:',round(h6_b['MoM_%'].mean(),2),'%, last 12 months cumulative:', round(h6_b['MoM_%'].sum(),2),'%')"
   ]
  },
  {
   "cell_type": "code",
   "execution_count": 79,
   "metadata": {
    "ExecuteTime": {
     "end_time": "2022-03-11T14:17:11.226624Z",
     "start_time": "2022-03-11T14:17:11.198631Z"
    }
   },
   "outputs": [
    {
     "name": "stdout",
     "output_type": "stream",
     "text": [
      "Percentual diference between the MoM: 2341.8 %\n"
     ]
    }
   ],
   "source": [
    "print('Percentual diference between the MoM:',dif(h6_a['MoM_%'].mean(),h6_b['MoM_%'].mean()),'%')"
   ]
  },
  {
   "cell_type": "code",
   "execution_count": 80,
   "metadata": {
    "ExecuteTime": {
     "end_time": "2022-03-11T14:17:11.257476Z",
     "start_time": "2022-03-11T14:17:11.228551Z"
    }
   },
   "outputs": [
    {
     "data": {
      "text/html": [
       "<div>\n",
       "<style scoped>\n",
       "    .dataframe tbody tr th:only-of-type {\n",
       "        vertical-align: middle;\n",
       "    }\n",
       "\n",
       "    .dataframe tbody tr th {\n",
       "        vertical-align: top;\n",
       "    }\n",
       "\n",
       "    .dataframe thead th {\n",
       "        text-align: right;\n",
       "    }\n",
       "</style>\n",
       "<table border=\"1\" class=\"dataframe\">\n",
       "  <thead>\n",
       "    <tr style=\"text-align: right;\">\n",
       "      <th></th>\n",
       "      <th>year_month</th>\n",
       "      <th>price</th>\n",
       "      <th>MoM_%</th>\n",
       "    </tr>\n",
       "  </thead>\n",
       "  <tbody>\n",
       "    <tr>\n",
       "      <th>0</th>\n",
       "      <td>2014-05</td>\n",
       "      <td>543698.48</td>\n",
       "      <td>0.00</td>\n",
       "    </tr>\n",
       "    <tr>\n",
       "      <th>1</th>\n",
       "      <td>2014-06</td>\n",
       "      <td>545124.91</td>\n",
       "      <td>0.26</td>\n",
       "    </tr>\n",
       "    <tr>\n",
       "      <th>2</th>\n",
       "      <td>2014-07</td>\n",
       "      <td>539398.48</td>\n",
       "      <td>-1.05</td>\n",
       "    </tr>\n",
       "    <tr>\n",
       "      <th>3</th>\n",
       "      <td>2014-08</td>\n",
       "      <td>525954.70</td>\n",
       "      <td>-2.49</td>\n",
       "    </tr>\n",
       "    <tr>\n",
       "      <th>4</th>\n",
       "      <td>2014-09</td>\n",
       "      <td>519531.64</td>\n",
       "      <td>-1.22</td>\n",
       "    </tr>\n",
       "    <tr>\n",
       "      <th>5</th>\n",
       "      <td>2014-10</td>\n",
       "      <td>532623.80</td>\n",
       "      <td>2.52</td>\n",
       "    </tr>\n",
       "    <tr>\n",
       "      <th>6</th>\n",
       "      <td>2014-11</td>\n",
       "      <td>508681.83</td>\n",
       "      <td>-4.50</td>\n",
       "    </tr>\n",
       "    <tr>\n",
       "      <th>7</th>\n",
       "      <td>2014-12</td>\n",
       "      <td>515374.71</td>\n",
       "      <td>1.32</td>\n",
       "    </tr>\n",
       "    <tr>\n",
       "      <th>8</th>\n",
       "      <td>2015-01</td>\n",
       "      <td>518199.30</td>\n",
       "      <td>0.55</td>\n",
       "    </tr>\n",
       "    <tr>\n",
       "      <th>9</th>\n",
       "      <td>2015-02</td>\n",
       "      <td>504172.90</td>\n",
       "      <td>-2.71</td>\n",
       "    </tr>\n",
       "    <tr>\n",
       "      <th>10</th>\n",
       "      <td>2015-03</td>\n",
       "      <td>536328.93</td>\n",
       "      <td>6.38</td>\n",
       "    </tr>\n",
       "    <tr>\n",
       "      <th>11</th>\n",
       "      <td>2015-04</td>\n",
       "      <td>553548.15</td>\n",
       "      <td>3.21</td>\n",
       "    </tr>\n",
       "    <tr>\n",
       "      <th>12</th>\n",
       "      <td>2015-05</td>\n",
       "      <td>555143.51</td>\n",
       "      <td>0.29</td>\n",
       "    </tr>\n",
       "  </tbody>\n",
       "</table>\n",
       "</div>"
      ],
      "text/plain": [
       "   year_month     price  MoM_%\n",
       "0     2014-05 543698.48   0.00\n",
       "1     2014-06 545124.91   0.26\n",
       "2     2014-07 539398.48  -1.05\n",
       "3     2014-08 525954.70  -2.49\n",
       "4     2014-09 519531.64  -1.22\n",
       "5     2014-10 532623.80   2.52\n",
       "6     2014-11 508681.83  -4.50\n",
       "7     2014-12 515374.71   1.32\n",
       "8     2015-01 518199.30   0.55\n",
       "9     2015-02 504172.90  -2.71\n",
       "10    2015-03 536328.93   6.38\n",
       "11    2015-04 553548.15   3.21\n",
       "12    2015-05 555143.51   0.29"
      ]
     },
     "metadata": {},
     "output_type": "display_data"
    },
    {
     "data": {
      "text/html": [
       "<div>\n",
       "<style scoped>\n",
       "    .dataframe tbody tr th:only-of-type {\n",
       "        vertical-align: middle;\n",
       "    }\n",
       "\n",
       "    .dataframe tbody tr th {\n",
       "        vertical-align: top;\n",
       "    }\n",
       "\n",
       "    .dataframe thead th {\n",
       "        text-align: right;\n",
       "    }\n",
       "</style>\n",
       "<table border=\"1\" class=\"dataframe\">\n",
       "  <thead>\n",
       "    <tr style=\"text-align: right;\">\n",
       "      <th></th>\n",
       "      <th>year_month</th>\n",
       "      <th>price</th>\n",
       "      <th>MoM_%</th>\n",
       "    </tr>\n",
       "  </thead>\n",
       "  <tbody>\n",
       "    <tr>\n",
       "      <th>0</th>\n",
       "      <td>2014-05</td>\n",
       "      <td>1318400.00</td>\n",
       "      <td>0.00</td>\n",
       "    </tr>\n",
       "    <tr>\n",
       "      <th>1</th>\n",
       "      <td>2014-06</td>\n",
       "      <td>2017631.58</td>\n",
       "      <td>53.04</td>\n",
       "    </tr>\n",
       "    <tr>\n",
       "      <th>2</th>\n",
       "      <td>2014-07</td>\n",
       "      <td>1333926.67</td>\n",
       "      <td>-33.89</td>\n",
       "    </tr>\n",
       "    <tr>\n",
       "      <th>3</th>\n",
       "      <td>2014-08</td>\n",
       "      <td>2135166.67</td>\n",
       "      <td>60.07</td>\n",
       "    </tr>\n",
       "    <tr>\n",
       "      <th>4</th>\n",
       "      <td>2014-09</td>\n",
       "      <td>1666576.67</td>\n",
       "      <td>-21.95</td>\n",
       "    </tr>\n",
       "    <tr>\n",
       "      <th>5</th>\n",
       "      <td>2014-10</td>\n",
       "      <td>1349143.25</td>\n",
       "      <td>-19.05</td>\n",
       "    </tr>\n",
       "    <tr>\n",
       "      <th>6</th>\n",
       "      <td>2014-11</td>\n",
       "      <td>1827600.00</td>\n",
       "      <td>35.46</td>\n",
       "    </tr>\n",
       "    <tr>\n",
       "      <th>7</th>\n",
       "      <td>2014-12</td>\n",
       "      <td>1656291.67</td>\n",
       "      <td>-9.37</td>\n",
       "    </tr>\n",
       "    <tr>\n",
       "      <th>8</th>\n",
       "      <td>2015-01</td>\n",
       "      <td>1571875.00</td>\n",
       "      <td>-5.10</td>\n",
       "    </tr>\n",
       "    <tr>\n",
       "      <th>9</th>\n",
       "      <td>2015-02</td>\n",
       "      <td>1239833.33</td>\n",
       "      <td>-21.12</td>\n",
       "    </tr>\n",
       "    <tr>\n",
       "      <th>10</th>\n",
       "      <td>2015-03</td>\n",
       "      <td>1654961.54</td>\n",
       "      <td>33.48</td>\n",
       "    </tr>\n",
       "    <tr>\n",
       "      <th>11</th>\n",
       "      <td>2015-04</td>\n",
       "      <td>1783313.16</td>\n",
       "      <td>7.76</td>\n",
       "    </tr>\n",
       "    <tr>\n",
       "      <th>12</th>\n",
       "      <td>2015-05</td>\n",
       "      <td>1483333.33</td>\n",
       "      <td>-16.82</td>\n",
       "    </tr>\n",
       "  </tbody>\n",
       "</table>\n",
       "</div>"
      ],
      "text/plain": [
       "   year_month      price  MoM_%\n",
       "0     2014-05 1318400.00   0.00\n",
       "1     2014-06 2017631.58  53.04\n",
       "2     2014-07 1333926.67 -33.89\n",
       "3     2014-08 2135166.67  60.07\n",
       "4     2014-09 1666576.67 -21.95\n",
       "5     2014-10 1349143.25 -19.05\n",
       "6     2014-11 1827600.00  35.46\n",
       "7     2014-12 1656291.67  -9.37\n",
       "8     2015-01 1571875.00  -5.10\n",
       "9     2015-02 1239833.33 -21.12\n",
       "10    2015-03 1654961.54  33.48\n",
       "11    2015-04 1783313.16   7.76\n",
       "12    2015-05 1483333.33 -16.82"
      ]
     },
     "metadata": {},
     "output_type": "display_data"
    }
   ],
   "source": [
    "display(h6_a)\n",
    "display(h6_b)"
   ]
  },
  {
   "cell_type": "markdown",
   "metadata": {},
   "source": [
    "**Positive:** Properties with waterfront has o MoM growth bigger than that without, despite the bigger investment to purchese properties with waterfront in a medium and long term they can represent a good investment."
   ]
  },
  {
   "cell_type": "code",
   "execution_count": 81,
   "metadata": {
    "ExecuteTime": {
     "end_time": "2022-03-11T14:17:11.647852Z",
     "start_time": "2022-03-11T14:17:11.259475Z"
    },
    "scrolled": true
   },
   "outputs": [
    {
     "data": {
      "image/png": "[encoded data removed]",
      "text/plain": [
       "<Figure size 1800x864 with 1 Axes>"
      ]
     },
     "metadata": {},
     "output_type": "display_data"
    }
   ],
   "source": [
    "fig_6 = sns.lineplot(x='year_month',y='MoM_%',data=h6_a,label='With waterfront')\n",
    "fig_6 = sns.lineplot(x='year_month',y='MoM_%',data=h6_b,label='Without waterfront')"
   ]
  },
  {
   "cell_type": "markdown",
   "metadata": {},
   "source": [
    "# h7: Properties with a high quality grade, has a growth month-over-month 5% of  bigger than those with average grade ?\n"
   ]
  },
  {
   "cell_type": "code",
   "execution_count": 82,
   "metadata": {
    "ExecuteTime": {
     "end_time": "2022-03-11T14:17:11.695786Z",
     "start_time": "2022-03-11T14:17:11.650804Z"
    }
   },
   "outputs": [],
   "source": [
    "h7_a = data.loc[data['grade']==7,['price','year_month']].groupby('year_month').mean().reset_index()\n",
    "h7_b = data.loc[((data['grade'] == 10)|(data['grade'] == 11)|(data['grade'] == 12)|(data['grade'] == 13)),['price','year_month']].groupby('year_month').mean().reset_index()\n",
    "\n",
    "h7_a = MoM(h7_a)\n",
    "h7_b = MoM(h7_b)"
   ]
  },
  {
   "cell_type": "code",
   "execution_count": 83,
   "metadata": {
    "ExecuteTime": {
     "end_time": "2022-03-11T14:17:11.726753Z",
     "start_time": "2022-03-11T14:17:11.698782Z"
    }
   },
   "outputs": [
    {
     "data": {
      "text/html": [
       "<div>\n",
       "<style scoped>\n",
       "    .dataframe tbody tr th:only-of-type {\n",
       "        vertical-align: middle;\n",
       "    }\n",
       "\n",
       "    .dataframe tbody tr th {\n",
       "        vertical-align: top;\n",
       "    }\n",
       "\n",
       "    .dataframe thead th {\n",
       "        text-align: right;\n",
       "    }\n",
       "</style>\n",
       "<table border=\"1\" class=\"dataframe\">\n",
       "  <thead>\n",
       "    <tr style=\"text-align: right;\">\n",
       "      <th></th>\n",
       "      <th>year_month</th>\n",
       "      <th>price</th>\n",
       "      <th>MoM_%</th>\n",
       "    </tr>\n",
       "  </thead>\n",
       "  <tbody>\n",
       "    <tr>\n",
       "      <th>0</th>\n",
       "      <td>2014-05</td>\n",
       "      <td>399583.26</td>\n",
       "      <td>0.00</td>\n",
       "    </tr>\n",
       "    <tr>\n",
       "      <th>1</th>\n",
       "      <td>2014-06</td>\n",
       "      <td>403840.43</td>\n",
       "      <td>1.07</td>\n",
       "    </tr>\n",
       "    <tr>\n",
       "      <th>2</th>\n",
       "      <td>2014-07</td>\n",
       "      <td>400428.59</td>\n",
       "      <td>-0.84</td>\n",
       "    </tr>\n",
       "    <tr>\n",
       "      <th>3</th>\n",
       "      <td>2014-08</td>\n",
       "      <td>389123.07</td>\n",
       "      <td>-2.82</td>\n",
       "    </tr>\n",
       "    <tr>\n",
       "      <th>4</th>\n",
       "      <td>2014-09</td>\n",
       "      <td>397432.04</td>\n",
       "      <td>2.14</td>\n",
       "    </tr>\n",
       "    <tr>\n",
       "      <th>5</th>\n",
       "      <td>2014-10</td>\n",
       "      <td>397953.22</td>\n",
       "      <td>0.13</td>\n",
       "    </tr>\n",
       "    <tr>\n",
       "      <th>6</th>\n",
       "      <td>2014-11</td>\n",
       "      <td>401693.18</td>\n",
       "      <td>0.94</td>\n",
       "    </tr>\n",
       "    <tr>\n",
       "      <th>7</th>\n",
       "      <td>2014-12</td>\n",
       "      <td>388558.83</td>\n",
       "      <td>-3.27</td>\n",
       "    </tr>\n",
       "    <tr>\n",
       "      <th>8</th>\n",
       "      <td>2015-01</td>\n",
       "      <td>387163.67</td>\n",
       "      <td>-0.36</td>\n",
       "    </tr>\n",
       "    <tr>\n",
       "      <th>9</th>\n",
       "      <td>2015-02</td>\n",
       "      <td>391838.24</td>\n",
       "      <td>1.21</td>\n",
       "    </tr>\n",
       "    <tr>\n",
       "      <th>10</th>\n",
       "      <td>2015-03</td>\n",
       "      <td>410994.76</td>\n",
       "      <td>4.89</td>\n",
       "    </tr>\n",
       "    <tr>\n",
       "      <th>11</th>\n",
       "      <td>2015-04</td>\n",
       "      <td>425128.62</td>\n",
       "      <td>3.44</td>\n",
       "    </tr>\n",
       "    <tr>\n",
       "      <th>12</th>\n",
       "      <td>2015-05</td>\n",
       "      <td>438446.63</td>\n",
       "      <td>3.13</td>\n",
       "    </tr>\n",
       "  </tbody>\n",
       "</table>\n",
       "</div>"
      ],
      "text/plain": [
       "   year_month     price  MoM_%\n",
       "0     2014-05 399583.26   0.00\n",
       "1     2014-06 403840.43   1.07\n",
       "2     2014-07 400428.59  -0.84\n",
       "3     2014-08 389123.07  -2.82\n",
       "4     2014-09 397432.04   2.14\n",
       "5     2014-10 397953.22   0.13\n",
       "6     2014-11 401693.18   0.94\n",
       "7     2014-12 388558.83  -3.27\n",
       "8     2015-01 387163.67  -0.36\n",
       "9     2015-02 391838.24   1.21\n",
       "10    2015-03 410994.76   4.89\n",
       "11    2015-04 425128.62   3.44\n",
       "12    2015-05 438446.63   3.13"
      ]
     },
     "metadata": {},
     "output_type": "display_data"
    },
    {
     "data": {
      "text/html": [
       "<div>\n",
       "<style scoped>\n",
       "    .dataframe tbody tr th:only-of-type {\n",
       "        vertical-align: middle;\n",
       "    }\n",
       "\n",
       "    .dataframe tbody tr th {\n",
       "        vertical-align: top;\n",
       "    }\n",
       "\n",
       "    .dataframe thead th {\n",
       "        text-align: right;\n",
       "    }\n",
       "</style>\n",
       "<table border=\"1\" class=\"dataframe\">\n",
       "  <thead>\n",
       "    <tr style=\"text-align: right;\">\n",
       "      <th></th>\n",
       "      <th>year_month</th>\n",
       "      <th>price</th>\n",
       "      <th>MoM_%</th>\n",
       "    </tr>\n",
       "  </thead>\n",
       "  <tbody>\n",
       "    <tr>\n",
       "      <th>0</th>\n",
       "      <td>2014-05</td>\n",
       "      <td>1238424.41</td>\n",
       "      <td>0.00</td>\n",
       "    </tr>\n",
       "    <tr>\n",
       "      <th>1</th>\n",
       "      <td>2014-06</td>\n",
       "      <td>1208481.04</td>\n",
       "      <td>-2.42</td>\n",
       "    </tr>\n",
       "    <tr>\n",
       "      <th>2</th>\n",
       "      <td>2014-07</td>\n",
       "      <td>1227223.95</td>\n",
       "      <td>1.55</td>\n",
       "    </tr>\n",
       "    <tr>\n",
       "      <th>3</th>\n",
       "      <td>2014-08</td>\n",
       "      <td>1233941.77</td>\n",
       "      <td>0.55</td>\n",
       "    </tr>\n",
       "    <tr>\n",
       "      <th>4</th>\n",
       "      <td>2014-09</td>\n",
       "      <td>1315432.83</td>\n",
       "      <td>6.60</td>\n",
       "    </tr>\n",
       "    <tr>\n",
       "      <th>5</th>\n",
       "      <td>2014-10</td>\n",
       "      <td>1305155.12</td>\n",
       "      <td>-0.78</td>\n",
       "    </tr>\n",
       "    <tr>\n",
       "      <th>6</th>\n",
       "      <td>2014-11</td>\n",
       "      <td>1213927.17</td>\n",
       "      <td>-6.99</td>\n",
       "    </tr>\n",
       "    <tr>\n",
       "      <th>7</th>\n",
       "      <td>2014-12</td>\n",
       "      <td>1252073.13</td>\n",
       "      <td>3.14</td>\n",
       "    </tr>\n",
       "    <tr>\n",
       "      <th>8</th>\n",
       "      <td>2015-01</td>\n",
       "      <td>1316605.43</td>\n",
       "      <td>5.15</td>\n",
       "    </tr>\n",
       "    <tr>\n",
       "      <th>9</th>\n",
       "      <td>2015-02</td>\n",
       "      <td>1210853.17</td>\n",
       "      <td>-8.03</td>\n",
       "    </tr>\n",
       "    <tr>\n",
       "      <th>10</th>\n",
       "      <td>2015-03</td>\n",
       "      <td>1273020.86</td>\n",
       "      <td>5.13</td>\n",
       "    </tr>\n",
       "    <tr>\n",
       "      <th>11</th>\n",
       "      <td>2015-04</td>\n",
       "      <td>1286498.72</td>\n",
       "      <td>1.06</td>\n",
       "    </tr>\n",
       "    <tr>\n",
       "      <th>12</th>\n",
       "      <td>2015-05</td>\n",
       "      <td>1422567.20</td>\n",
       "      <td>10.58</td>\n",
       "    </tr>\n",
       "  </tbody>\n",
       "</table>\n",
       "</div>"
      ],
      "text/plain": [
       "   year_month      price  MoM_%\n",
       "0     2014-05 1238424.41   0.00\n",
       "1     2014-06 1208481.04  -2.42\n",
       "2     2014-07 1227223.95   1.55\n",
       "3     2014-08 1233941.77   0.55\n",
       "4     2014-09 1315432.83   6.60\n",
       "5     2014-10 1305155.12  -0.78\n",
       "6     2014-11 1213927.17  -6.99\n",
       "7     2014-12 1252073.13   3.14\n",
       "8     2015-01 1316605.43   5.15\n",
       "9     2015-02 1210853.17  -8.03\n",
       "10    2015-03 1273020.86   5.13\n",
       "11    2015-04 1286498.72   1.06\n",
       "12    2015-05 1422567.20  10.58"
      ]
     },
     "metadata": {},
     "output_type": "display_data"
    }
   ],
   "source": [
    "display(h7_a)\n",
    "display(h7_b)"
   ]
  },
  {
   "cell_type": "code",
   "execution_count": 84,
   "metadata": {
    "ExecuteTime": {
     "end_time": "2022-03-11T14:17:11.742665Z",
     "start_time": "2022-03-11T14:17:11.728702Z"
    }
   },
   "outputs": [
    {
     "name": "stdout",
     "output_type": "stream",
     "text": [
      "Average MoM: 0.74 %, last 12 months cumulative: 9.66 %\n"
     ]
    }
   ],
   "source": [
    "print('Average MoM:',round(h7_a['MoM_%'].mean(),2),'%, last 12 months cumulative:', round(h7_a['MoM_%'].sum(),2),'%')"
   ]
  },
  {
   "cell_type": "code",
   "execution_count": 85,
   "metadata": {
    "ExecuteTime": {
     "end_time": "2022-03-11T14:17:11.772586Z",
     "start_time": "2022-03-11T14:17:11.744659Z"
    }
   },
   "outputs": [
    {
     "name": "stdout",
     "output_type": "stream",
     "text": [
      "Average MoM: 1.2 %, last 12 months cumulative: 15.54 %\n"
     ]
    }
   ],
   "source": [
    "print('Average MoM:',round(h7_b['MoM_%'].mean(),2),'%, last 12 months cumulative:', round(h7_b['MoM_%'].sum(),2),'%')"
   ]
  },
  {
   "cell_type": "code",
   "execution_count": 86,
   "metadata": {
    "ExecuteTime": {
     "end_time": "2022-03-11T14:17:11.788559Z",
     "start_time": "2022-03-11T14:17:11.775577Z"
    }
   },
   "outputs": [
    {
     "name": "stdout",
     "output_type": "stream",
     "text": [
      "Percentual diference between the MoM: 60.87 %\n"
     ]
    }
   ],
   "source": [
    "print('Percentual diference between the MoM:',dif(h7_a['MoM_%'].mean(),h7_b['MoM_%'].mean()),'%')"
   ]
  },
  {
   "cell_type": "code",
   "execution_count": 87,
   "metadata": {
    "ExecuteTime": {
     "end_time": "2022-03-11T14:17:12.246918Z",
     "start_time": "2022-03-11T14:17:11.793528Z"
    }
   },
   "outputs": [
    {
     "data": {
      "image/png": "[encoded data removed]",
      "text/plain": [
       "<Figure size 1800x864 with 1 Axes>"
      ]
     },
     "metadata": {},
     "output_type": "display_data"
    }
   ],
   "source": [
    "fig_7 = sns.lineplot(x='year_month',y='MoM_%',data=h7_a,label='Avarage grade')\n",
    "fig_7 = sns.lineplot(x='year_month',y='MoM_%',data=h7_b,label='High grade')"
   ]
  },
  {
   "cell_type": "markdown",
   "metadata": {},
   "source": [
    "**False**: The growth MoM of properties with average grade is 0.74% on average meanwhile the MoM growth for properties with high grade is 1.20% on average with a cumulative of 9,66% and 15,54% for the 12 last months, this means that properties with high grade has a MoM 60,87% bigger than those with avarega grade, so they can be a good medium to long therm investiment to the portifolio company."
   ]
  },
  {
   "cell_type": "markdown",
   "metadata": {},
   "source": [
    "# h8: Properties buying during the winter are 10% more cheap on average than that bought in summer ?"
   ]
  },
  {
   "cell_type": "code",
   "execution_count": 88,
   "metadata": {
    "ExecuteTime": {
     "end_time": "2022-03-11T14:17:12.611111Z",
     "start_time": "2022-03-11T14:17:12.248915Z"
    }
   },
   "outputs": [
    {
     "data": {
      "image/png": "[encoded data removed]",
      "text/plain": [
       "<Figure size 1800x864 with 1 Axes>"
      ]
     },
     "metadata": {},
     "output_type": "display_data"
    }
   ],
   "source": [
    "fig_8 = sns.boxplot(x='price',y='season',data=data[(data['season']=='winter')|(data['season']=='summer')])"
   ]
  },
  {
   "cell_type": "code",
   "execution_count": 89,
   "metadata": {
    "ExecuteTime": {
     "end_time": "2022-03-11T14:17:12.642085Z",
     "start_time": "2022-03-11T14:17:12.613110Z"
    }
   },
   "outputs": [],
   "source": [
    "h8 = data[['season','price']].groupby('season').mean().reset_index()"
   ]
  },
  {
   "cell_type": "code",
   "execution_count": 90,
   "metadata": {
    "ExecuteTime": {
     "end_time": "2022-03-11T14:17:12.657345Z",
     "start_time": "2022-03-11T14:17:12.644419Z"
    }
   },
   "outputs": [
    {
     "data": {
      "text/html": [
       "<div>\n",
       "<style scoped>\n",
       "    .dataframe tbody tr th:only-of-type {\n",
       "        vertical-align: middle;\n",
       "    }\n",
       "\n",
       "    .dataframe tbody tr th {\n",
       "        vertical-align: top;\n",
       "    }\n",
       "\n",
       "    .dataframe thead th {\n",
       "        text-align: right;\n",
       "    }\n",
       "</style>\n",
       "<table border=\"1\" class=\"dataframe\">\n",
       "  <thead>\n",
       "    <tr style=\"text-align: right;\">\n",
       "      <th></th>\n",
       "      <th>season</th>\n",
       "      <th>price</th>\n",
       "    </tr>\n",
       "  </thead>\n",
       "  <tbody>\n",
       "    <tr>\n",
       "      <th>0</th>\n",
       "      <td>fall</td>\n",
       "      <td>531286.79</td>\n",
       "    </tr>\n",
       "    <tr>\n",
       "      <th>1</th>\n",
       "      <td>spring</td>\n",
       "      <td>553615.56</td>\n",
       "    </tr>\n",
       "    <tr>\n",
       "      <th>2</th>\n",
       "      <td>summer</td>\n",
       "      <td>546615.81</td>\n",
       "    </tr>\n",
       "    <tr>\n",
       "      <th>3</th>\n",
       "      <td>winter</td>\n",
       "      <td>519647.98</td>\n",
       "    </tr>\n",
       "  </tbody>\n",
       "</table>\n",
       "</div>"
      ],
      "text/plain": [
       "   season     price\n",
       "0    fall 531286.79\n",
       "1  spring 553615.56\n",
       "2  summer 546615.81\n",
       "3  winter 519647.98"
      ]
     },
     "execution_count": 90,
     "metadata": {},
     "output_type": "execute_result"
    }
   ],
   "source": [
    "h8"
   ]
  },
  {
   "cell_type": "code",
   "execution_count": 91,
   "metadata": {
    "ExecuteTime": {
     "end_time": "2022-03-11T14:17:12.673301Z",
     "start_time": "2022-03-11T14:17:12.660336Z"
    }
   },
   "outputs": [
    {
     "name": "stdout",
     "output_type": "stream",
     "text": [
      "-4.93 %\n"
     ]
    }
   ],
   "source": [
    "print(dif(h8.iloc[2,1],h8.iloc[3,1]),'%')"
   ]
  },
  {
   "cell_type": "markdown",
   "metadata": {},
   "source": [
    "**False**: Properties bought during the winter are only 4,93% cheap than that bought in summer, the diference it's no so bigger than thought but still representative so would be interesting invest more during the winter."
   ]
  },
  {
   "cell_type": "markdown",
   "metadata": {},
   "source": [
    "# h9: Properties in bad conditions are 15 % more cheap than those in good conditions ? "
   ]
  },
  {
   "cell_type": "code",
   "execution_count": 92,
   "metadata": {
    "ExecuteTime": {
     "end_time": "2022-03-11T14:17:12.689260Z",
     "start_time": "2022-03-11T14:17:12.676294Z"
    }
   },
   "outputs": [],
   "source": [
    "price_bad_cond = data.loc[((data['condition']==1)|(data['condition']==2)),'price'].mean()\n",
    "price_good_cond = data.loc[((data['condition']==4)|(data['condition']==5)),'price'].mean()"
   ]
  },
  {
   "cell_type": "code",
   "execution_count": 93,
   "metadata": {
    "ExecuteTime": {
     "end_time": "2022-03-11T14:17:12.705218Z",
     "start_time": "2022-03-11T14:17:12.692252Z"
    }
   },
   "outputs": [
    {
     "name": "stdout",
     "output_type": "stream",
     "text": [
      "66.54 %\n"
     ]
    }
   ],
   "source": [
    "print(dif(price_bad_cond,price_good_cond),'%')"
   ]
  },
  {
   "cell_type": "code",
   "execution_count": 94,
   "metadata": {
    "ExecuteTime": {
     "end_time": "2022-03-11T14:17:12.892848Z",
     "start_time": "2022-03-11T14:17:12.708209Z"
    }
   },
   "outputs": [
    {
     "data": {
      "image/png": "[encoded data removed]",
      "text/plain": [
       "<Figure size 1800x864 with 1 Axes>"
      ]
     },
     "metadata": {},
     "output_type": "display_data"
    }
   ],
   "source": [
    "fig_9 = sns.barplot(x=['Bad condition','Good condtion'],y=[price_bad_cond,price_good_cond])"
   ]
  },
  {
   "cell_type": "markdown",
   "metadata": {},
   "source": [
    "**False**: Properties in bad condtions was 66,54% more cheap on avarage, than those in good condtions the company can invest low in this properties and renew them."
   ]
  },
  {
   "cell_type": "markdown",
   "metadata": {},
   "source": [
    "# h10: The price of properties increases along with their grade ?"
   ]
  },
  {
   "cell_type": "code",
   "execution_count": 95,
   "metadata": {
    "ExecuteTime": {
     "end_time": "2022-03-11T14:17:12.923253Z",
     "start_time": "2022-03-11T14:17:12.894804Z"
    }
   },
   "outputs": [
    {
     "data": {
      "text/html": [
       "<div>\n",
       "<style scoped>\n",
       "    .dataframe tbody tr th:only-of-type {\n",
       "        vertical-align: middle;\n",
       "    }\n",
       "\n",
       "    .dataframe tbody tr th {\n",
       "        vertical-align: top;\n",
       "    }\n",
       "\n",
       "    .dataframe thead th {\n",
       "        text-align: right;\n",
       "    }\n",
       "</style>\n",
       "<table border=\"1\" class=\"dataframe\">\n",
       "  <thead>\n",
       "    <tr style=\"text-align: right;\">\n",
       "      <th></th>\n",
       "      <th>grade</th>\n",
       "      <th>price</th>\n",
       "    </tr>\n",
       "  </thead>\n",
       "  <tbody>\n",
       "    <tr>\n",
       "      <th>0</th>\n",
       "      <td>1</td>\n",
       "      <td>142000.00</td>\n",
       "    </tr>\n",
       "    <tr>\n",
       "      <th>1</th>\n",
       "      <td>3</td>\n",
       "      <td>205666.67</td>\n",
       "    </tr>\n",
       "    <tr>\n",
       "      <th>2</th>\n",
       "      <td>4</td>\n",
       "      <td>214381.03</td>\n",
       "    </tr>\n",
       "    <tr>\n",
       "      <th>3</th>\n",
       "      <td>5</td>\n",
       "      <td>247495.52</td>\n",
       "    </tr>\n",
       "    <tr>\n",
       "      <th>4</th>\n",
       "      <td>6</td>\n",
       "      <td>301626.70</td>\n",
       "    </tr>\n",
       "    <tr>\n",
       "      <th>5</th>\n",
       "      <td>7</td>\n",
       "      <td>402003.71</td>\n",
       "    </tr>\n",
       "    <tr>\n",
       "      <th>6</th>\n",
       "      <td>8</td>\n",
       "      <td>542793.49</td>\n",
       "    </tr>\n",
       "    <tr>\n",
       "      <th>7</th>\n",
       "      <td>9</td>\n",
       "      <td>773132.76</td>\n",
       "    </tr>\n",
       "    <tr>\n",
       "      <th>8</th>\n",
       "      <td>10</td>\n",
       "      <td>1071448.58</td>\n",
       "    </tr>\n",
       "    <tr>\n",
       "      <th>9</th>\n",
       "      <td>11</td>\n",
       "      <td>1497903.66</td>\n",
       "    </tr>\n",
       "    <tr>\n",
       "      <th>10</th>\n",
       "      <td>12</td>\n",
       "      <td>2202359.33</td>\n",
       "    </tr>\n",
       "    <tr>\n",
       "      <th>11</th>\n",
       "      <td>13</td>\n",
       "      <td>3709615.38</td>\n",
       "    </tr>\n",
       "  </tbody>\n",
       "</table>\n",
       "</div>"
      ],
      "text/plain": [
       "    grade      price\n",
       "0       1  142000.00\n",
       "1       3  205666.67\n",
       "2       4  214381.03\n",
       "3       5  247495.52\n",
       "4       6  301626.70\n",
       "5       7  402003.71\n",
       "6       8  542793.49\n",
       "7       9  773132.76\n",
       "8      10 1071448.58\n",
       "9      11 1497903.66\n",
       "10     12 2202359.33\n",
       "11     13 3709615.38"
      ]
     },
     "execution_count": 95,
     "metadata": {},
     "output_type": "execute_result"
    }
   ],
   "source": [
    "h10 = data[['grade','price']].groupby('grade').mean().reset_index()\n",
    "h10"
   ]
  },
  {
   "cell_type": "code",
   "execution_count": 96,
   "metadata": {
    "ExecuteTime": {
     "end_time": "2022-03-11T14:17:13.208406Z",
     "start_time": "2022-03-11T14:17:12.929236Z"
    },
    "scrolled": true
   },
   "outputs": [
    {
     "data": {
      "image/png": "[encoded data removed]",
      "text/plain": [
       "<Figure size 1800x864 with 1 Axes>"
      ]
     },
     "metadata": {},
     "output_type": "display_data"
    }
   ],
   "source": [
    "fig_10 = sns.lineplot(data=h10,x='grade',y='price');"
   ]
  },
  {
   "cell_type": "markdown",
   "metadata": {},
   "source": [
    "**True**: The prices increase along with the grade of the building, so the company can filter properties prices by they grade."
   ]
  }
 ],
 "metadata": {
  "kernelspec": {
   "display_name": "Python 3",
   "language": "python",
   "name": "python3"
  },
  "language_info": {
   "codemirror_mode": {
    "name": "ipython",
    "version": 3
   },
   "file_extension": ".py",
   "mimetype": "text/x-python",
   "name": "python",
   "nbconvert_exporter": "python",
   "pygments_lexer": "ipython3",
   "version": "3.8.5"
  }
 },
 "nbformat": 4,
 "nbformat_minor": 4
}
